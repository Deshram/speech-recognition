{
 "cells": [
  {
   "cell_type": "markdown",
   "metadata": {
    "id": "ZwoTWIysaNmc"
   },
   "source": [
    "<pre><font size=6>Spoken Digit Recognition</font></pre>"
   ]
  },
  {
   "cell_type": "markdown",
   "metadata": {
    "id": "rPO3mjDDaNmf"
   },
   "source": [
    "<pre>\n",
    "In this notebook, You will do Spoken Digit Recognition. \n",
    "\n",
    "Input - speech signal, output - digit number\n",
    "\n",
    "\n",
    "\n",
    "It contains  \n",
    "\n",
    "1. Reading the dataset. and Preprocess the data set. Detailed instrctions are given below. You have to write the code in the same cell which contains the instrction. \n",
    "2. Training the LSTM with RAW data\n",
    "3. Converting to spectrogram and Training the LSTM network\n",
    "4. Creating the augmented data and doing step 2 and 3 again.  \n",
    "\n",
    "<font size=5>instructions:</font>\n",
    "\n",
    "    1. Don't change any Grader Functions. Don't manipulate any Grader functions. If you manipulate any, it will be considered as plagiarised. \n",
    "    \n",
    "    2. Please read the instructions on the code cells and markdown cells. We will explain what to write. \n",
    "    \n",
    "    3. please return outputs in the same format what we asked. Eg. Don't return List of we are asking for a numpy array.\n",
    "    \n",
    "    4. Please read the external links that we are given so that you will learn the concept behind the code that you are writing.\n",
    "    \n",
    "    5. We are giving instructions at each section if necessary, please follow them. \n",
    "\n",
    "<font size=5>Every Grader function has to return True. </font>\n",
    "\n",
    "</pre>"
   ]
  },
  {
   "cell_type": "code",
   "execution_count": 1,
   "metadata": {
    "id": "_qGuPcj-aNmh"
   },
   "outputs": [],
   "source": [
    "import numpy as np\n",
    "import pandas as pd\n",
    "import librosa\n",
    "import os\n",
    "import pickle\n",
    "import matplotlib.pyplot as plt\n",
    "from tensorflow.keras.preprocessing.sequence import pad_sequences\n",
    "from sklearn.model_selection import train_test_split\n",
    "from sklearn.metrics import f1_score\n",
    "##if you need any imports you can do that here. "
   ]
  },
  {
   "cell_type": "markdown",
   "metadata": {
    "id": "PdhFzGK1aNmo"
   },
   "source": [
    "We shared recordings.zip, please unzip those. "
   ]
  },
  {
   "cell_type": "code",
   "execution_count": null,
   "metadata": {
    "id": "oAqOO_BbeUCv"
   },
   "outputs": [],
   "source": [
    "!unzip -q /content/recordings.zip"
   ]
  },
  {
   "cell_type": "code",
   "execution_count": null,
   "metadata": {
    "colab": {
     "base_uri": "https://localhost:8080/"
    },
    "id": "HDBcl_PUaNmp",
    "outputId": "63573902-cea3-4d0d-91db-c7bb5f2db881"
   },
   "outputs": [
    {
     "name": "stdout",
     "output_type": "stream",
     "text": [
      "['0_jackson_0.wav', '0_jackson_1.wav', '0_jackson_10.wav', '0_jackson_11.wav', '0_jackson_12.wav', '0_jackson_13.wav', '0_jackson_14.wav', '0_jackson_15.wav', '0_jackson_16.wav', '0_jackson_17.wav']\n"
     ]
    }
   ],
   "source": [
    "#read the all file names in the recordings folder given by us\n",
    "#(if you get entire path, it is very useful in future)\n",
    "#save those files names as list in \"all_files\"\n",
    "all_files = sorted(os.listdir('/content/recordings'))\n",
    "print(all_files[:10])"
   ]
  },
  {
   "cell_type": "markdown",
   "metadata": {
    "id": "8NYYpfqoaNmv"
   },
   "source": [
    "<font size=4>Grader function 1 </font>"
   ]
  },
  {
   "cell_type": "code",
   "execution_count": null,
   "metadata": {
    "colab": {
     "base_uri": "https://localhost:8080/"
    },
    "id": "2oJSOmYBaNmx",
    "outputId": "833267bf-487a-475d-d0f1-ba09c8fc3c1f"
   },
   "outputs": [
    {
     "data": {
      "text/plain": [
       "True"
      ]
     },
     "execution_count": 22,
     "metadata": {
      "tags": []
     },
     "output_type": "execute_result"
    }
   ],
   "source": [
    "def grader_files():\n",
    "    temp = len(all_files)==2000\n",
    "    temp1 = all([x[-3:]==\"wav\" for x in all_files])\n",
    "    temp = temp and temp1\n",
    "    return temp\n",
    "grader_files()"
   ]
  },
  {
   "cell_type": "markdown",
   "metadata": {
    "id": "MhvSIN6raNm3"
   },
   "source": [
    "Create a dataframe(name=df_audio) with two columns(path, label).   \n",
    "You can get the label from the first letter of name.  \n",
    "Eg: 0_jackson_0 --> 0  \n",
    "0_jackson_43 --> 0"
   ]
  },
  {
   "cell_type": "code",
   "execution_count": null,
   "metadata": {
    "colab": {
     "base_uri": "https://localhost:8080/",
     "height": 204
    },
    "id": "fWP6vXBeaNm3",
    "outputId": "b8f81bea-ad29-4572-8b49-4b0a259b5dfd"
   },
   "outputs": [
    {
     "data": {
      "text/html": [
       "<div>\n",
       "<style scoped>\n",
       "    .dataframe tbody tr th:only-of-type {\n",
       "        vertical-align: middle;\n",
       "    }\n",
       "\n",
       "    .dataframe tbody tr th {\n",
       "        vertical-align: top;\n",
       "    }\n",
       "\n",
       "    .dataframe thead th {\n",
       "        text-align: right;\n",
       "    }\n",
       "</style>\n",
       "<table border=\"1\" class=\"dataframe\">\n",
       "  <thead>\n",
       "    <tr style=\"text-align: right;\">\n",
       "      <th></th>\n",
       "      <th>path</th>\n",
       "      <th>label</th>\n",
       "    </tr>\n",
       "  </thead>\n",
       "  <tbody>\n",
       "    <tr>\n",
       "      <th>0</th>\n",
       "      <td>/content/recordings/0_jackson_0.wav</td>\n",
       "      <td>0</td>\n",
       "    </tr>\n",
       "    <tr>\n",
       "      <th>1</th>\n",
       "      <td>/content/recordings/0_jackson_1.wav</td>\n",
       "      <td>0</td>\n",
       "    </tr>\n",
       "    <tr>\n",
       "      <th>2</th>\n",
       "      <td>/content/recordings/0_jackson_10.wav</td>\n",
       "      <td>0</td>\n",
       "    </tr>\n",
       "    <tr>\n",
       "      <th>3</th>\n",
       "      <td>/content/recordings/0_jackson_11.wav</td>\n",
       "      <td>0</td>\n",
       "    </tr>\n",
       "    <tr>\n",
       "      <th>4</th>\n",
       "      <td>/content/recordings/0_jackson_12.wav</td>\n",
       "      <td>0</td>\n",
       "    </tr>\n",
       "  </tbody>\n",
       "</table>\n",
       "</div>"
      ],
      "text/plain": [
       "                                   path  label\n",
       "0   /content/recordings/0_jackson_0.wav      0\n",
       "1   /content/recordings/0_jackson_1.wav      0\n",
       "2  /content/recordings/0_jackson_10.wav      0\n",
       "3  /content/recordings/0_jackson_11.wav      0\n",
       "4  /content/recordings/0_jackson_12.wav      0"
      ]
     },
     "execution_count": 30,
     "metadata": {
      "tags": []
     },
     "output_type": "execute_result"
    }
   ],
   "source": [
    "#Create a dataframe(name=df_audio) with two columns(path, label).   \n",
    "#You can get the label from the first letter of name.  \n",
    "#Eg: 0_jackson_0 --> 0  \n",
    "#0_jackson_43 --> 0\n",
    "df_audio = pd.DataFrame({'path':all_files})\n",
    "df_audio['label'] = df_audio['path'].apply(lambda x: int(x[0]))\n",
    "df_audio['path'] = df_audio['path'].apply(lambda x: '/content/recordings/'+x)\n",
    "df_audio.head()"
   ]
  },
  {
   "cell_type": "code",
   "execution_count": null,
   "metadata": {
    "colab": {
     "base_uri": "https://localhost:8080/"
    },
    "id": "5ZpuaGuJaNm8",
    "outputId": "fbbe3ce9-12f7-432a-ce70-4331cd56e5d5"
   },
   "outputs": [
    {
     "name": "stdout",
     "output_type": "stream",
     "text": [
      "<class 'pandas.core.frame.DataFrame'>\n",
      "RangeIndex: 2000 entries, 0 to 1999\n",
      "Data columns (total 2 columns):\n",
      " #   Column  Non-Null Count  Dtype \n",
      "---  ------  --------------  ----- \n",
      " 0   path    2000 non-null   object\n",
      " 1   label   2000 non-null   int64 \n",
      "dtypes: int64(1), object(1)\n",
      "memory usage: 31.4+ KB\n"
     ]
    }
   ],
   "source": [
    "#info\n",
    "df_audio.info()"
   ]
  },
  {
   "cell_type": "markdown",
   "metadata": {
    "id": "VOKpYJ_LaNnD"
   },
   "source": [
    "<font size=4>Grader function 2 </font>"
   ]
  },
  {
   "cell_type": "code",
   "execution_count": null,
   "metadata": {
    "colab": {
     "base_uri": "https://localhost:8080/"
    },
    "id": "7Q8r_T8-aNnE",
    "outputId": "5a3431b6-72f8-4116-e741-e594eb52cb2f"
   },
   "outputs": [
    {
     "data": {
      "text/plain": [
       "True"
      ]
     },
     "execution_count": 25,
     "metadata": {
      "tags": []
     },
     "output_type": "execute_result"
    }
   ],
   "source": [
    "def grader_df():\n",
    "    flag_shape = df_audio.shape==(2000,2)\n",
    "    flag_columns = all(df_audio.columns==['path', 'label'])\n",
    "    list_values = list(df_audio.label.value_counts())\n",
    "    flag_label = len(list_values)==10\n",
    "    flag_label2 = all([i==200 for i in list_values])\n",
    "    final_flag = flag_shape and flag_columns and flag_label and flag_label2\n",
    "    return final_flag\n",
    "grader_df()"
   ]
  },
  {
   "cell_type": "code",
   "execution_count": null,
   "metadata": {
    "id": "PlfssCc3aNnL"
   },
   "outputs": [],
   "source": [
    "from sklearn.utils import shuffle\n",
    "df_audio = shuffle(df_audio, random_state=33)#don't change the random state"
   ]
  },
  {
   "cell_type": "markdown",
   "metadata": {
    "id": "PZ448aENaNnR"
   },
   "source": [
    "<pre><font size=4>Train and Validation split</font></pre>"
   ]
  },
  {
   "cell_type": "code",
   "execution_count": null,
   "metadata": {
    "id": "vSPy-Ln6aNnS"
   },
   "outputs": [],
   "source": [
    "#split the data into train and validation and save in X_train, X_test, y_train, y_test\n",
    "#use stratify sampling\n",
    "#use random state of 45\n",
    "#use test size of 30%\n",
    "from sklearn.model_selection import train_test_split\n",
    "X_train, X_test, y_train, y_test = train_test_split(df_audio['path'], df_audio['label'], test_size=0.3,stratify = df_audio['label'], random_state=45)"
   ]
  },
  {
   "cell_type": "markdown",
   "metadata": {
    "id": "YPK3sbzUaNnW"
   },
   "source": [
    "<font size=4>Grader function 3 </font>"
   ]
  },
  {
   "cell_type": "code",
   "execution_count": null,
   "metadata": {
    "colab": {
     "base_uri": "https://localhost:8080/"
    },
    "id": "chZzntKUaNnX",
    "outputId": "3a40383f-c9af-45b2-961e-6b6553bde929"
   },
   "outputs": [
    {
     "data": {
      "text/plain": [
       "True"
      ]
     },
     "execution_count": 28,
     "metadata": {
      "tags": []
     },
     "output_type": "execute_result"
    }
   ],
   "source": [
    "def grader_split():\n",
    "    flag_len = (len(X_train)==1400) and (len(X_test)==600) and (len(y_train)==1400) and (len(y_test)==600)\n",
    "    values_ytrain = list(y_train.value_counts())\n",
    "    flag_ytrain = (len(values_ytrain)==10) and (all([i==140 for i in values_ytrain]))\n",
    "    values_ytest = list(y_test.value_counts())\n",
    "    flag_ytest = (len(values_ytest)==10) and (all([i==60 for i in values_ytest]))\n",
    "    final_flag = flag_len and flag_ytrain and flag_ytest\n",
    "    return final_flag\n",
    "grader_split()"
   ]
  },
  {
   "cell_type": "markdown",
   "metadata": {
    "id": "LGhh-39vaNnb"
   },
   "source": [
    "<pre><font size=4>Preprocessing</font>\n",
    "\n",
    "All files are in the \"WAV\" format. We will read those raw data files using the librosa</pre>"
   ]
  },
  {
   "cell_type": "code",
   "execution_count": null,
   "metadata": {
    "id": "i99JacQSaNnc"
   },
   "outputs": [],
   "source": [
    "sample_rate = 22050\n",
    "def load_wav(x, get_duration=True):\n",
    "    '''This return the array values of audio with sampling rate of 22050 and Duration'''\n",
    "    #loading the wav file with sampling rate of 22050\n",
    "    samples, sample_rate = librosa.load(x, sr=22050)\n",
    "    if get_duration:\n",
    "        duration = librosa.get_duration(samples, sample_rate)\n",
    "        return [samples, duration]\n",
    "    else:\n",
    "        return samples"
   ]
  },
  {
   "cell_type": "code",
   "execution_count": null,
   "metadata": {
    "id": "Rx97f8GGaNnh"
   },
   "outputs": [],
   "source": [
    "#use load_wav function that was written above to get every wave. \n",
    "#save it in X_train_processed and X_test_processed\n",
    "# X_train_processed/X_test_processed should be dataframes with two columns(raw_data, duration) with same index of X_train/y_train\n",
    "\n",
    "def processing(X):\n",
    "    processed = []\n",
    "    paths = X.values\n",
    "    for path in paths:\n",
    "        row = load_wav(path, get_duration=True)\n",
    "        processed.append(row)\n",
    "    processed = np.array(processed,dtype='object')\n",
    "    return pd.DataFrame(processed, columns=['raw_data', 'duration'])\n",
    "\n",
    "X_train_processed = processing(X_train)\n",
    "X_test_processed = processing(X_test)"
   ]
  },
  {
   "cell_type": "code",
   "execution_count": null,
   "metadata": {
    "colab": {
     "base_uri": "https://localhost:8080/",
     "height": 284
    },
    "id": "5P9MIdzOm2nj",
    "outputId": "61be95dc-a21c-4717-d64a-73228dc743e2"
   },
   "outputs": [
    {
     "data": {
      "text/plain": [
       "<matplotlib.axes._subplots.AxesSubplot at 0x7f3be769c650>"
      ]
     },
     "execution_count": 48,
     "metadata": {
      "tags": []
     },
     "output_type": "execute_result"
    },
    {
     "data": {
      "image/png": "[encoded data removed]",
      "text/plain": [
       "<Figure size 432x288 with 1 Axes>"
      ]
     },
     "metadata": {
      "tags": []
     },
     "output_type": "display_data"
    }
   ],
   "source": [
    "#plot the histogram of the duration for trian\n",
    "X_train_processed['duration'].hist(grid = False)"
   ]
  },
  {
   "cell_type": "code",
   "execution_count": null,
   "metadata": {
    "colab": {
     "base_uri": "https://localhost:8080/",
     "height": 282
    },
    "id": "wWharvYumz75",
    "outputId": "37e9cd02-d8ca-4710-8f65-60b6af516775"
   },
   "outputs": [
    {
     "data": {
      "text/plain": [
       "<matplotlib.axes._subplots.AxesSubplot at 0x7f3be35b0410>"
      ]
     },
     "execution_count": 50,
     "metadata": {
      "tags": []
     },
     "output_type": "execute_result"
    },
    {
     "data": {
      "image/png": "[encoded data removed]",
      "text/plain": [
       "<Figure size 432x288 with 1 Axes>"
      ]
     },
     "metadata": {
      "tags": []
     },
     "output_type": "display_data"
    }
   ],
   "source": [
    "#plot the histogram of the duration for test\n",
    "X_test_processed['duration'].hist(grid = False)"
   ]
  },
  {
   "cell_type": "code",
   "execution_count": null,
   "metadata": {
    "colab": {
     "base_uri": "https://localhost:8080/"
    },
    "id": "icqWU9C2pNSE",
    "outputId": "afa65cba-1797-4e87-be40-b9871d560acc"
   },
   "outputs": [
    {
     "name": "stdout",
     "output_type": "stream",
     "text": [
      "0 th percentile is 0.16104308390022676\n",
      "10 th percentile is 0.25848072562358276\n",
      "20 th percentile is 0.2974331065759637\n",
      "30 th percentile is 0.3297777777777778\n",
      "40 th percentile is 0.3569160997732426\n",
      "50 th percentile is 0.38945578231292516\n",
      "60 th percentile is 0.41328798185941046\n",
      "70 th percentile is 0.4444671201814059\n",
      "80 th percentile is 0.4826848072562358\n",
      "90 th percentile is 0.5531655328798186\n",
      "100 th percentile is 2.195918367346939\n"
     ]
    }
   ],
   "source": [
    "#print 0 to 100 percentile values with step size of 10 for train data duration. \n",
    "\n",
    "duration = X_train_processed['duration']\n",
    "for i in range(0,110,10):\n",
    "  print(f'{i} th percentile is {np.percentile(duration, i)}')"
   ]
  },
  {
   "cell_type": "code",
   "execution_count": null,
   "metadata": {
    "colab": {
     "base_uri": "https://localhost:8080/"
    },
    "id": "iGB_LmwjsgXx",
    "outputId": "e1ccb983-66d5-41c4-98ec-f7727e275efb"
   },
   "outputs": [
    {
     "name": "stdout",
     "output_type": "stream",
     "text": [
      "90 th percentile is 0.5531655328798186\n",
      "91 th percentile is 0.5669832199546486\n",
      "92 th percentile is 0.5790349206349206\n",
      "93 th percentile is 0.599510657596372\n",
      "94 th percentile is 0.611208163265306\n",
      "95 th percentile is 0.6316009070294784\n",
      "96 th percentile is 0.6431455782312925\n",
      "97 th percentile is 0.6635741496598639\n",
      "98 th percentile is 0.6957514739229022\n",
      "99 th percentile is 0.79601179138322\n",
      "100 th percentile is 2.195918367346939\n"
     ]
    }
   ],
   "source": [
    "##print 90 to 100 percentile values with step size of 1. \n",
    "for i in range(90,101):\n",
    "  print(f'{i} th percentile is {np.percentile(duration, i)}')"
   ]
  },
  {
   "cell_type": "markdown",
   "metadata": {
    "id": "JbMb4Y0RaNoA"
   },
   "source": [
    "<font size=4>Grader function 4 </font>"
   ]
  },
  {
   "cell_type": "code",
   "execution_count": null,
   "metadata": {
    "colab": {
     "base_uri": "https://localhost:8080/"
    },
    "id": "UMoyLLSAaNoF",
    "outputId": "7253d562-1045-4ccb-efb2-36d0a49e9193"
   },
   "outputs": [
    {
     "data": {
      "text/plain": [
       "True"
      ]
     },
     "execution_count": 31,
     "metadata": {
      "tags": []
     },
     "output_type": "execute_result"
    }
   ],
   "source": [
    "def grader_processed():\n",
    "    flag_columns = (all(X_train_processed.columns==['raw_data', 'duration'])) and (all(X_test_processed.columns==['raw_data', 'duration']))\n",
    "    flag_shape = (X_train_processed.shape ==(1400, 2)) and (X_test_processed.shape==(600,2))\n",
    "    return flag_columns and flag_shape\n",
    "grader_processed()"
   ]
  },
  {
   "cell_type": "markdown",
   "metadata": {
    "id": "Cux3_jfcaNoM"
   },
   "source": [
    "<pre>Based on our analysis 99 percentile values are less than 0.8sec so we will limit maximum length of X_train_processed and X_test_processed to 0.8 sec. It is similar to pad_sequence for a text dataset. \n",
    "\n",
    "While loading the audio files, we are using sampling rate of 22050 so one sec will give array of length 22050. so, our maximum length is 0.8*22050 = 17640\n",
    "\n",
    "Pad with Zero if length of sequence is less than 17640 else Truncate the number. \n",
    "\n",
    "Also create a masking vector for train and test. \n",
    "\n",
    "masking vector value = 1 if it is real value, 0 if it is pad value. Masking vector data type must be bool.\n",
    "</pre>"
   ]
  },
  {
   "cell_type": "code",
   "execution_count": null,
   "metadata": {
    "id": "voqSEyvcaNoO"
   },
   "outputs": [],
   "source": [
    "max_length  = 17640"
   ]
  },
  {
   "cell_type": "code",
   "execution_count": null,
   "metadata": {
    "id": "B1-_r20BaNoW"
   },
   "outputs": [],
   "source": [
    "## as discussed above, Pad with Zero if length of sequence is less than 17640 else Truncate the number. \n",
    "## save in the X_train_pad_seq, X_test_pad_seq\n",
    "## also Create masking vector X_train_mask, X_test_mask\n",
    "\n",
    "## all the X_train_pad_seq, X_test_pad_seq, X_train_mask, X_test_mask will be numpy arrays mask vector dtype must be bool\n",
    "def mask(X):\n",
    "  x_mask = []\n",
    "  for i in X:\n",
    "    x_mask.append([True if j !=0 else False for j in i])\n",
    "  return np.array(x_mask)\n",
    "\n",
    "X_train_pad_seq = pad_sequences(X_train_processed['raw_data'].values, maxlen = 17640, padding='post', truncating = 'post', dtype = 'float32')\n",
    "X_test_pad_seq = pad_sequences(X_test_processed['raw_data'].values, maxlen = 17640, padding='post', truncating = 'post', dtype = 'float32')\n",
    "\n",
    "X_train_mask = mask(X_train_pad_seq)\n",
    "X_test_mask = mask(X_test_pad_seq)"
   ]
  },
  {
   "cell_type": "markdown",
   "metadata": {
    "id": "zEHMgm4DaNoe"
   },
   "source": [
    "<font size=4>Grader function 5 </font>"
   ]
  },
  {
   "cell_type": "code",
   "execution_count": null,
   "metadata": {
    "colab": {
     "base_uri": "https://localhost:8080/"
    },
    "id": "OI05zcqZVaw3",
    "outputId": "8a4d5f42-ef8f-46b6-f4f4-255970dc3bf1"
   },
   "outputs": [
    {
     "data": {
      "text/plain": [
       "(1400, 17640)"
      ]
     },
     "execution_count": 33,
     "metadata": {
      "tags": []
     },
     "output_type": "execute_result"
    }
   ],
   "source": [
    "# X_processed = X_train_processed['raw_data'].values\n",
    "# X_pad_seq = pad_sequences(X_processed, maxlen = 17640, padding='post', truncating = 'post', dtype = 'float32')\n",
    "X_train_pad_seq.shape"
   ]
  },
  {
   "cell_type": "code",
   "execution_count": 4,
   "metadata": {
    "colab": {
     "base_uri": "https://localhost:8080/"
    },
    "id": "Th3KhplGaNof",
    "outputId": "8bddd385-431c-49ad-8d7f-4c7a83b07da2"
   },
   "outputs": [
    {
     "data": {
      "text/plain": [
       "True"
      ]
     },
     "execution_count": 4,
     "metadata": {
      "tags": []
     },
     "output_type": "execute_result"
    }
   ],
   "source": [
    "def grader_padoutput():\n",
    "    flag_padshape = (X_train_pad_seq.shape==(1400, 17640)) and (X_test_pad_seq.shape==(600, 17640)) and (y_train.shape==(1400,))\n",
    "    flag_maskshape = (X_train_mask.shape==(1400, 17640)) and (X_test_mask.shape==(600, 17640)) and (y_test.shape==(600,))\n",
    "    flag_dtype = (X_train_mask.dtype==bool) and (X_test_mask.dtype==bool)\n",
    "    return flag_padshape and flag_maskshape and flag_dtype\n",
    "grader_padoutput()"
   ]
  },
  {
   "cell_type": "code",
   "execution_count": null,
   "metadata": {
    "id": "hmoXnBpSRlO8"
   },
   "outputs": [],
   "source": [
    "with open('data.pkl','wb') as f:\n",
    "  pickle.dump(X_train_pad_seq, f)\n",
    "  pickle.dump(X_test_pad_seq, f)\n",
    "  pickle.dump(X_train_mask, f)\n",
    "  pickle.dump(X_test_mask, f)\n",
    "  pickle.dump(y_train, f)\n",
    "  pickle.dump(y_test, f)"
   ]
  },
  {
   "cell_type": "code",
   "execution_count": 2,
   "metadata": {
    "colab": {
     "base_uri": "https://localhost:8080/"
    },
    "id": "kxQ8nr9jyLXe",
    "outputId": "c3b94d2c-70cf-42f5-93ca-5de6c449ac73"
   },
   "outputs": [
    {
     "name": "stdout",
     "output_type": "stream",
     "text": [
      "Mounted at /content/drive\n"
     ]
    }
   ],
   "source": [
    "from google.colab import drive\n",
    "drive.mount('/content/drive')"
   ]
  },
  {
   "cell_type": "code",
   "execution_count": 3,
   "metadata": {
    "id": "zj1DHtHbSLCd"
   },
   "outputs": [],
   "source": [
    "with open('/content/drive/MyDrive/assgn30/data.pkl','rb') as f:\n",
    "  X_train_pad_seq = pickle.load(f)\n",
    "  X_test_pad_seq = pickle.load(f)\n",
    "  X_train_mask = pickle.load(f)\n",
    "  X_test_mask = pickle.load(f)\n",
    "  y_train = pickle.load(f)\n",
    "  y_test = pickle.load(f)"
   ]
  },
  {
   "cell_type": "markdown",
   "metadata": {
    "id": "K0kaYQ1jaNop"
   },
   "source": [
    "### 1. Giving Raw data directly. "
   ]
  },
  {
   "cell_type": "markdown",
   "metadata": {
    "id": "xGHxh3jTaNoq"
   },
   "source": [
    "<pre>\n",
    "Now we have\n",
    "\n",
    "Train data: X_train_pad_seq, X_train_mask and y_train  \n",
    "Test data: X_test_pad_seq, X_test_mask and y_test   \n",
    "\n",
    "We will create a LSTM model which takes this input. \n",
    "\n",
    "Task:\n",
    "\n",
    "1. Create an LSTM network which takes \"X_train_pad_seq\" as input, \"X_train_mask\" as mask input. You can use any number of LSTM cells. Please read LSTM documentation(https://www.tensorflow.org/api_docs/python/tf/keras/layers/LSTM) in tensorflow to know more about mask and also https://www.tensorflow.org/guide/keras/masking_and_padding \n",
    "2. Get the final output of the LSTM and give it to Dense layer of any size and then give it to Dense layer of size 10(because we have 10 outputs) and then compile with the sparse categorical cross entropy( because we are not converting it to one hot vectors). \n",
    "3. Use tensorboard to plot the graphs of loss and metric(use micro F1 score as metric) and histograms of gradients. \n",
    "4. make sure that it won't overfit. \n",
    "5. You are free to include any regularization\n",
    "</pre>"
   ]
  },
  {
   "cell_type": "code",
   "execution_count": 5,
   "metadata": {
    "id": "X8yg951AaNor"
   },
   "outputs": [],
   "source": [
    "from tensorflow.keras.layers import Input, LSTM, Dense, GlobalAveragePooling1D\n",
    "from tensorflow.keras.models import Model\n",
    "import tensorflow as tf"
   ]
  },
  {
   "cell_type": "code",
   "execution_count": null,
   "metadata": {
    "colab": {
     "base_uri": "https://localhost:8080/"
    },
    "id": "8nKlG5SY63En",
    "outputId": "633c83f7-054a-46c3-f641-4ec206e162aa"
   },
   "outputs": [
    {
     "name": "stdout",
     "output_type": "stream",
     "text": [
      "(1400, 17640, 1) (600, 17640, 1)\n"
     ]
    }
   ],
   "source": [
    "X_tr = np.expand_dims(X_train_pad_seq, axis=-1)\n",
    "X_te = np.expand_dims(X_test_pad_seq, axis=-1)\n",
    "\n",
    "print(X_tr.shape,X_te.shape)"
   ]
  },
  {
   "cell_type": "code",
   "execution_count": null,
   "metadata": {
    "id": "d8y1sgeVaNoy"
   },
   "outputs": [],
   "source": [
    "## as discussed above, please write the LSTM\n",
    "tf.keras.backend.clear_session\n",
    "input = Input(shape=(17640,1), name='input_layer', dtype = 'float32')\n",
    "input_mask = Input(shape=(17640), name='input_mask', dtype = 'bool')\n",
    "lstm = LSTM(25)(input, mask = input_mask)\n",
    "dense = Dense(50, activation='relu')(lstm)\n",
    "dense_1 = Dense(10, activation='softmax')(dense)"
   ]
  },
  {
   "cell_type": "code",
   "execution_count": null,
   "metadata": {
    "colab": {
     "base_uri": "https://localhost:8080/"
    },
    "id": "FGYaNMaS4NS0",
    "outputId": "13daa45d-4360-47fe-c8d6-f6404890d979"
   },
   "outputs": [
    {
     "name": "stdout",
     "output_type": "stream",
     "text": [
      "Model: \"model\"\n",
      "__________________________________________________________________________________________________\n",
      "Layer (type)                    Output Shape         Param #     Connected to                     \n",
      "==================================================================================================\n",
      "input_layer (InputLayer)        [(None, 17640, 1)]   0                                            \n",
      "__________________________________________________________________________________________________\n",
      "input_mask (InputLayer)         [(None, 17640)]      0                                            \n",
      "__________________________________________________________________________________________________\n",
      "lstm (LSTM)                     (None, 25)           2700        input_layer[0][0]                \n",
      "                                                                 input_mask[0][0]                 \n",
      "__________________________________________________________________________________________________\n",
      "dense (Dense)                   (None, 50)           1300        lstm[0][0]                       \n",
      "__________________________________________________________________________________________________\n",
      "dense_1 (Dense)                 (None, 10)           510         dense[0][0]                      \n",
      "==================================================================================================\n",
      "Total params: 4,510\n",
      "Trainable params: 4,510\n",
      "Non-trainable params: 0\n",
      "__________________________________________________________________________________________________\n"
     ]
    }
   ],
   "source": [
    "model = Model(inputs = [input,input_mask], outputs = dense_1)\n",
    "model.summary()"
   ]
  },
  {
   "cell_type": "code",
   "execution_count": null,
   "metadata": {
    "colab": {
     "base_uri": "https://localhost:8080/"
    },
    "id": "MzpPjxvHaNpJ",
    "outputId": "abdaacfc-af75-448c-8132-43a48631d4fc"
   },
   "outputs": [
    {
     "name": "stdout",
     "output_type": "stream",
     "text": [
      "Epoch 1/50\n",
      "44/44 [==============================] - 57s 517ms/step - loss: 2.3030 - micro_f1: 0.0952 - sparse_categorical_accuracy: 0.0952 - val_loss: 2.3026 - val_micro_f1: 0.1025 - val_sparse_categorical_accuracy: 0.1017\n",
      "Epoch 2/50\n",
      "44/44 [==============================] - 21s 471ms/step - loss: 2.3029 - micro_f1: 0.1020 - sparse_categorical_accuracy: 0.1020 - val_loss: 2.3026 - val_micro_f1: 0.0981 - val_sparse_categorical_accuracy: 0.0983\n",
      "Epoch 3/50\n",
      "44/44 [==============================] - 21s 478ms/step - loss: 2.3027 - micro_f1: 0.1013 - sparse_categorical_accuracy: 0.1013 - val_loss: 2.3026 - val_micro_f1: 0.0992 - val_sparse_categorical_accuracy: 0.1000\n",
      "Epoch 4/50\n",
      "44/44 [==============================] - 21s 489ms/step - loss: 2.3028 - micro_f1: 0.1002 - sparse_categorical_accuracy: 0.1002 - val_loss: 2.3026 - val_micro_f1: 0.0992 - val_sparse_categorical_accuracy: 0.1000\n",
      "Epoch 5/50\n",
      "44/44 [==============================] - 21s 467ms/step - loss: 2.3027 - micro_f1: 0.1101 - sparse_categorical_accuracy: 0.1101 - val_loss: 2.3026 - val_micro_f1: 0.1031 - val_sparse_categorical_accuracy: 0.1017\n",
      "Epoch 6/50\n",
      "44/44 [==============================] - 21s 486ms/step - loss: 2.3028 - micro_f1: 0.0882 - sparse_categorical_accuracy: 0.0882 - val_loss: 2.3026 - val_micro_f1: 0.1009 - val_sparse_categorical_accuracy: 0.1017\n",
      "Epoch 7/50\n",
      "44/44 [==============================] - 20s 460ms/step - loss: 2.3027 - micro_f1: 0.1000 - sparse_categorical_accuracy: 0.1000 - val_loss: 2.3025 - val_micro_f1: 0.0965 - val_sparse_categorical_accuracy: 0.0967\n",
      "Epoch 8/50\n",
      "44/44 [==============================] - 22s 493ms/step - loss: 2.3027 - micro_f1: 0.1010 - sparse_categorical_accuracy: 0.1010 - val_loss: 2.3025 - val_micro_f1: 0.1009 - val_sparse_categorical_accuracy: 0.1017\n",
      "Epoch 9/50\n",
      "44/44 [==============================] - 21s 483ms/step - loss: 2.3028 - micro_f1: 0.0853 - sparse_categorical_accuracy: 0.0853 - val_loss: 2.3025 - val_micro_f1: 0.1025 - val_sparse_categorical_accuracy: 0.1017\n",
      "Epoch 10/50\n",
      "44/44 [==============================] - 21s 481ms/step - loss: 2.3027 - micro_f1: 0.1036 - sparse_categorical_accuracy: 0.1036 - val_loss: 2.3025 - val_micro_f1: 0.1014 - val_sparse_categorical_accuracy: 0.1017\n",
      "Epoch 11/50\n",
      "44/44 [==============================] - 21s 473ms/step - loss: 2.3026 - micro_f1: 0.0935 - sparse_categorical_accuracy: 0.0936 - val_loss: 2.3025 - val_micro_f1: 0.1014 - val_sparse_categorical_accuracy: 0.1000\n",
      "Epoch 12/50\n",
      "44/44 [==============================] - 21s 483ms/step - loss: 2.3027 - micro_f1: 0.0954 - sparse_categorical_accuracy: 0.0954 - val_loss: 2.3025 - val_micro_f1: 0.1014 - val_sparse_categorical_accuracy: 0.1017\n"
     ]
    }
   ],
   "source": [
    "#train your model\n",
    "def micro_f1_score(y_true,y_pred):\n",
    "  return f1_score(y_true, np.argmax(y_pred,axis=1), average='micro')\n",
    "\n",
    "def micro_f1(y_true, y_pred):\n",
    "  return tf.py_function(func=micro_f1_score, inp=[y_true,y_pred], Tout=tf.float32)\n",
    "\n",
    "loss = tf.losses.SparseCategoricalCrossentropy()\n",
    "acc = tf.metrics.SparseCategoricalAccuracy()\n",
    "\n",
    "Adam = tf.optimizers.Adam()\n",
    "\n",
    "early_stopping = tf.keras.callbacks.EarlyStopping(monitor='loss', patience=5)\n",
    "\n",
    "model.compile(optimizer=Adam, loss = loss, metrics=[micro_f1, acc])\n",
    "\n",
    "history = model.fit(x=[X_tr, X_train_mask], y=y_train, batch_size=32, epochs=50, \\\n",
    "                    validation_data  = ([X_te, X_test_mask], y_test), callbacks=[early_stopping])"
   ]
  },
  {
   "cell_type": "code",
   "execution_count": null,
   "metadata": {
    "colab": {
     "base_uri": "https://localhost:8080/",
     "height": 295
    },
    "id": "HcsLStwAxuU5",
    "outputId": "1e80ab65-3775-40b7-f6d8-306aea4ee32d"
   },
   "outputs": [
    {
     "data": {
      "image/png": "[encoded data removed]",
      "text/plain": [
       "<Figure size 432x288 with 1 Axes>"
      ]
     },
     "metadata": {
      "needs_background": "light",
      "tags": []
     },
     "output_type": "display_data"
    }
   ],
   "source": [
    "plt.plot(history.history['loss'])\n",
    "plt.plot(history.history['val_loss'])\n",
    "plt.title('model loss')\n",
    "plt.ylabel('loss')\n",
    "plt.xlabel('epoch')\n",
    "plt.legend(['train', 'test'], loc='upper left')\n",
    "plt.show()"
   ]
  },
  {
   "cell_type": "code",
   "execution_count": null,
   "metadata": {
    "colab": {
     "base_uri": "https://localhost:8080/",
     "height": 295
    },
    "id": "fiyzEoszx2Ba",
    "outputId": "86f077c7-ee76-45eb-8d1d-36f0bf69cfc3"
   },
   "outputs": [
    {
     "data": {
      "image/png": "[encoded data removed]",
      "text/plain": [
       "<Figure size 432x288 with 1 Axes>"
      ]
     },
     "metadata": {
      "needs_background": "light",
      "tags": []
     },
     "output_type": "display_data"
    }
   ],
   "source": [
    "plt.plot(history.history['micro_f1'])\n",
    "plt.plot(history.history['val_micro_f1'])\n",
    "plt.title('f1_score')\n",
    "plt.ylabel('loss')\n",
    "plt.xlabel('epoch')\n",
    "plt.legend(['train', 'test'], loc='upper left')\n",
    "plt.show()"
   ]
  },
  {
   "cell_type": "markdown",
   "metadata": {
    "id": "2Fwk0X4zaNpR"
   },
   "source": [
    "### 2. Converting into spectrogram and giving spectrogram data as input  \n",
    "<pre>\n",
    "We can use librosa to convert raw data into spectrogram. A spectrogram shows the features in a two-dimensional representation with the\n",
    "intensity of a frequency at a point in time i.e we are converting Time domain to frequency domain. you can read more about this in https://pnsn.org/spectrograms/what-is-a-spectrogram\n",
    "</pre>"
   ]
  },
  {
   "cell_type": "code",
   "execution_count": 6,
   "metadata": {
    "id": "nb5AGzTjaNpS"
   },
   "outputs": [],
   "source": [
    "def convert_to_spectrogram(raw_data):\n",
    "    '''converting to spectrogram'''\n",
    "    spectrum = librosa.feature.melspectrogram(y=raw_data, sr=22050, n_mels=64)\n",
    "    logmel_spectrum = librosa.power_to_db(S=spectrum, ref=np.max)\n",
    "    return logmel_spectrum"
   ]
  },
  {
   "cell_type": "code",
   "execution_count": 7,
   "metadata": {
    "id": "B__rN4RjaNpc"
   },
   "outputs": [],
   "source": [
    "##use convert_to_spectrogram and convert every raw sequence in X_train_pad_seq and X_test_pad-seq.\n",
    "## save those all in the X_train_spectrogram and X_test_spectrogram ( These two arrays must be numpy arrays)\n",
    "X_train_spectrogram = np.array(list(map(convert_to_spectrogram, X_train_pad_seq)))\n",
    "X_test_spectrogram = np.array(list(map(convert_to_spectrogram, X_test_pad_seq)))"
   ]
  },
  {
   "cell_type": "markdown",
   "metadata": {
    "id": "zr1ynYZnaNpj"
   },
   "source": [
    "<font size=4>Grader function 6 </font>"
   ]
  },
  {
   "cell_type": "code",
   "execution_count": 8,
   "metadata": {
    "colab": {
     "base_uri": "https://localhost:8080/"
    },
    "id": "oniXBXcsaNpk",
    "outputId": "e4557307-dbd1-4ecc-f887-4d0e6ae7d82c"
   },
   "outputs": [
    {
     "data": {
      "text/plain": [
       "True"
      ]
     },
     "execution_count": 8,
     "metadata": {
      "tags": []
     },
     "output_type": "execute_result"
    }
   ],
   "source": [
    "def grader_spectrogram():\n",
    "    flag_shape = (X_train_spectrogram.shape==(1400,64, 35)) and (X_test_spectrogram.shape == (600, 64, 35))\n",
    "    return flag_shape\n",
    "grader_spectrogram()"
   ]
  },
  {
   "cell_type": "markdown",
   "metadata": {
    "id": "xxlEVyIYaNpt"
   },
   "source": [
    "<pre>\n",
    "Now we have\n",
    "\n",
    "Train data: X_train_spectrogram and y_train  \n",
    "Test data: X_test_spectrogram and y_test   \n",
    "\n",
    "We will create a LSTM model which takes this input. \n",
    "\n",
    "Task:\n",
    "\n",
    "1. Create an LSTM network which takes \"X_train_spectrogram\" as input and has to return output at every time step. \n",
    "2. Average the output of every time step and give this to the Dense layer of any size. \n",
    "(ex: Output from LSTM will be  (#., time_steps, features) average the output of every time step i.e, you should get (#.,time_steps) \n",
    "and then pass to dense layer )\n",
    "3. give the above output to Dense layer of size 10( output layer) and train the network with sparse categorical cross entropy.  \n",
    "4. Use tensorboard to plot the graphs of loss and metric(use micro F1 score as metric) and histograms of gradients. \n",
    "5. make sure that it won't overfit. \n",
    "6. You are free to include any regularization\n",
    "</pre>"
   ]
  },
  {
   "cell_type": "code",
   "execution_count": 13,
   "metadata": {
    "colab": {
     "base_uri": "https://localhost:8080/"
    },
    "id": "IaQjaiiGaNpv",
    "outputId": "8af2d0b2-2058-41b0-e551-c6c8890c4ed4"
   },
   "outputs": [
    {
     "name": "stdout",
     "output_type": "stream",
     "text": [
      "Model: \"model\"\n",
      "_________________________________________________________________\n",
      "Layer (type)                 Output Shape              Param #   \n",
      "=================================================================\n",
      "input_layer (InputLayer)     [(None, 64, 35)]          0         \n",
      "_________________________________________________________________\n",
      "lstm (LSTM)                  (None, 64, 25)            6100      \n",
      "_________________________________________________________________\n",
      "global_average_pooling1d (Gl (None, 64)                0         \n",
      "_________________________________________________________________\n",
      "dense (Dense)                (None, 50)                3250      \n",
      "_________________________________________________________________\n",
      "dense_1 (Dense)              (None, 10)                510       \n",
      "=================================================================\n",
      "Total params: 9,860\n",
      "Trainable params: 9,860\n",
      "Non-trainable params: 0\n",
      "_________________________________________________________________\n"
     ]
    }
   ],
   "source": [
    "tf.keras.backend.clear_session()\n",
    "input = Input(shape=(64,35), name='input_layer', dtype = 'float32')\n",
    "lstm = LSTM(25, return_sequences=True)(input)\n",
    "average = GlobalAveragePooling1D(data_format='channels_first')(lstm)\n",
    "dense = Dense(50, activation='relu')(average)\n",
    "dense_1 = Dense(10, activation='softmax')(dense)\n",
    "\n",
    "model = Model(inputs=input, outputs=dense_1)\n",
    "model.summary()"
   ]
  },
  {
   "cell_type": "code",
   "execution_count": 14,
   "metadata": {
    "colab": {
     "base_uri": "https://localhost:8080/"
    },
    "id": "862fP2e-aNp3",
    "outputId": "3adaf786-5ee4-4cf4-b846-fbcb9a4fe3b1"
   },
   "outputs": [
    {
     "name": "stdout",
     "output_type": "stream",
     "text": [
      "Epoch 1/50\n",
      "44/44 [==============================] - 2s 19ms/step - loss: 2.2958 - micro_f1: 0.1328 - sparse_categorical_accuracy: 0.1328 - val_loss: 2.2778 - val_micro_f1: 0.1880 - val_sparse_categorical_accuracy: 0.1883\n",
      "Epoch 2/50\n",
      "44/44 [==============================] - 0s 9ms/step - loss: 2.2668 - micro_f1: 0.2003 - sparse_categorical_accuracy: 0.2004 - val_loss: 2.2365 - val_micro_f1: 0.1941 - val_sparse_categorical_accuracy: 0.1933\n",
      "Epoch 3/50\n",
      "44/44 [==============================] - 0s 9ms/step - loss: 2.2035 - micro_f1: 0.2230 - sparse_categorical_accuracy: 0.2230 - val_loss: 2.1466 - val_micro_f1: 0.2275 - val_sparse_categorical_accuracy: 0.2267\n",
      "Epoch 4/50\n",
      "44/44 [==============================] - 0s 9ms/step - loss: 2.0792 - micro_f1: 0.2790 - sparse_categorical_accuracy: 0.2791 - val_loss: 1.9931 - val_micro_f1: 0.2714 - val_sparse_categorical_accuracy: 0.2717\n",
      "Epoch 5/50\n",
      "44/44 [==============================] - 0s 9ms/step - loss: 1.9403 - micro_f1: 0.3244 - sparse_categorical_accuracy: 0.3244 - val_loss: 1.8557 - val_micro_f1: 0.3613 - val_sparse_categorical_accuracy: 0.3617\n",
      "Epoch 6/50\n",
      "44/44 [==============================] - 1s 12ms/step - loss: 1.7473 - micro_f1: 0.4180 - sparse_categorical_accuracy: 0.4181 - val_loss: 1.5877 - val_micro_f1: 0.4956 - val_sparse_categorical_accuracy: 0.4950\n",
      "Epoch 7/50\n",
      "44/44 [==============================] - 0s 9ms/step - loss: 1.5529 - micro_f1: 0.5243 - sparse_categorical_accuracy: 0.5243 - val_loss: 1.4179 - val_micro_f1: 0.5532 - val_sparse_categorical_accuracy: 0.5533\n",
      "Epoch 8/50\n",
      "44/44 [==============================] - 0s 8ms/step - loss: 1.3842 - micro_f1: 0.5614 - sparse_categorical_accuracy: 0.5614 - val_loss: 1.2600 - val_micro_f1: 0.5773 - val_sparse_categorical_accuracy: 0.5767\n",
      "Epoch 9/50\n",
      "44/44 [==============================] - 0s 9ms/step - loss: 1.2070 - micro_f1: 0.6217 - sparse_categorical_accuracy: 0.6217 - val_loss: 1.1314 - val_micro_f1: 0.6519 - val_sparse_categorical_accuracy: 0.6517\n",
      "Epoch 10/50\n",
      "44/44 [==============================] - 0s 9ms/step - loss: 1.0811 - micro_f1: 0.6671 - sparse_categorical_accuracy: 0.6670 - val_loss: 1.0302 - val_micro_f1: 0.6886 - val_sparse_categorical_accuracy: 0.6883\n",
      "Epoch 11/50\n",
      "44/44 [==============================] - 0s 9ms/step - loss: 0.9930 - micro_f1: 0.7082 - sparse_categorical_accuracy: 0.7082 - val_loss: 0.9966 - val_micro_f1: 0.6809 - val_sparse_categorical_accuracy: 0.6817\n",
      "Epoch 12/50\n",
      "44/44 [==============================] - 0s 9ms/step - loss: 0.9647 - micro_f1: 0.6780 - sparse_categorical_accuracy: 0.6780 - val_loss: 0.9017 - val_micro_f1: 0.7078 - val_sparse_categorical_accuracy: 0.7083\n",
      "Epoch 13/50\n",
      "44/44 [==============================] - 0s 9ms/step - loss: 0.8264 - micro_f1: 0.7445 - sparse_categorical_accuracy: 0.7446 - val_loss: 0.8896 - val_micro_f1: 0.7083 - val_sparse_categorical_accuracy: 0.7100\n",
      "Epoch 14/50\n",
      "44/44 [==============================] - 0s 9ms/step - loss: 0.8312 - micro_f1: 0.7464 - sparse_categorical_accuracy: 0.7465 - val_loss: 0.8194 - val_micro_f1: 0.7440 - val_sparse_categorical_accuracy: 0.7433\n",
      "Epoch 15/50\n",
      "44/44 [==============================] - 0s 9ms/step - loss: 0.8454 - micro_f1: 0.7344 - sparse_categorical_accuracy: 0.7344 - val_loss: 0.7541 - val_micro_f1: 0.7286 - val_sparse_categorical_accuracy: 0.7283\n",
      "Epoch 16/50\n",
      "44/44 [==============================] - 0s 9ms/step - loss: 0.7870 - micro_f1: 0.7361 - sparse_categorical_accuracy: 0.7361 - val_loss: 0.7084 - val_micro_f1: 0.7599 - val_sparse_categorical_accuracy: 0.7600\n",
      "Epoch 17/50\n",
      "44/44 [==============================] - 0s 9ms/step - loss: 0.7184 - micro_f1: 0.7632 - sparse_categorical_accuracy: 0.7632 - val_loss: 0.6781 - val_micro_f1: 0.7785 - val_sparse_categorical_accuracy: 0.7783\n",
      "Epoch 18/50\n",
      "44/44 [==============================] - 0s 9ms/step - loss: 0.6922 - micro_f1: 0.7800 - sparse_categorical_accuracy: 0.7800 - val_loss: 0.6465 - val_micro_f1: 0.7950 - val_sparse_categorical_accuracy: 0.7950\n",
      "Epoch 19/50\n",
      "44/44 [==============================] - 0s 8ms/step - loss: 0.6574 - micro_f1: 0.8040 - sparse_categorical_accuracy: 0.8041 - val_loss: 0.6808 - val_micro_f1: 0.7922 - val_sparse_categorical_accuracy: 0.7933\n",
      "Epoch 20/50\n",
      "44/44 [==============================] - 0s 9ms/step - loss: 0.6461 - micro_f1: 0.7984 - sparse_categorical_accuracy: 0.7984 - val_loss: 0.6022 - val_micro_f1: 0.8120 - val_sparse_categorical_accuracy: 0.8117\n",
      "Epoch 21/50\n",
      "44/44 [==============================] - 0s 9ms/step - loss: 0.6263 - micro_f1: 0.7943 - sparse_categorical_accuracy: 0.7943 - val_loss: 0.5759 - val_micro_f1: 0.8196 - val_sparse_categorical_accuracy: 0.8200\n",
      "Epoch 22/50\n",
      "44/44 [==============================] - 0s 9ms/step - loss: 0.5344 - micro_f1: 0.8483 - sparse_categorical_accuracy: 0.8482 - val_loss: 0.5766 - val_micro_f1: 0.8322 - val_sparse_categorical_accuracy: 0.8333\n",
      "Epoch 23/50\n",
      "44/44 [==============================] - 0s 9ms/step - loss: 0.5369 - micro_f1: 0.8520 - sparse_categorical_accuracy: 0.8520 - val_loss: 0.5482 - val_micro_f1: 0.8246 - val_sparse_categorical_accuracy: 0.8250\n",
      "Epoch 24/50\n",
      "44/44 [==============================] - 0s 9ms/step - loss: 0.5714 - micro_f1: 0.8323 - sparse_categorical_accuracy: 0.8323 - val_loss: 0.5404 - val_micro_f1: 0.8350 - val_sparse_categorical_accuracy: 0.8350\n",
      "Epoch 25/50\n",
      "44/44 [==============================] - 0s 9ms/step - loss: 0.5022 - micro_f1: 0.8575 - sparse_categorical_accuracy: 0.8575 - val_loss: 0.4918 - val_micro_f1: 0.8542 - val_sparse_categorical_accuracy: 0.8550\n",
      "Epoch 26/50\n",
      "44/44 [==============================] - 0s 9ms/step - loss: 0.4899 - micro_f1: 0.8627 - sparse_categorical_accuracy: 0.8627 - val_loss: 0.4647 - val_micro_f1: 0.8701 - val_sparse_categorical_accuracy: 0.8700\n",
      "Epoch 27/50\n",
      "44/44 [==============================] - 0s 8ms/step - loss: 0.4937 - micro_f1: 0.8503 - sparse_categorical_accuracy: 0.8503 - val_loss: 0.4809 - val_micro_f1: 0.8514 - val_sparse_categorical_accuracy: 0.8517\n",
      "Epoch 28/50\n",
      "44/44 [==============================] - 0s 9ms/step - loss: 0.5083 - micro_f1: 0.8410 - sparse_categorical_accuracy: 0.8410 - val_loss: 0.4511 - val_micro_f1: 0.8662 - val_sparse_categorical_accuracy: 0.8667\n",
      "Epoch 29/50\n",
      "44/44 [==============================] - 0s 9ms/step - loss: 0.4554 - micro_f1: 0.8817 - sparse_categorical_accuracy: 0.8817 - val_loss: 0.4542 - val_micro_f1: 0.8564 - val_sparse_categorical_accuracy: 0.8567\n",
      "Epoch 30/50\n",
      "44/44 [==============================] - 0s 9ms/step - loss: 0.4396 - micro_f1: 0.8773 - sparse_categorical_accuracy: 0.8773 - val_loss: 0.4888 - val_micro_f1: 0.8399 - val_sparse_categorical_accuracy: 0.8400\n",
      "Epoch 31/50\n",
      "44/44 [==============================] - 0s 8ms/step - loss: 0.4026 - micro_f1: 0.8932 - sparse_categorical_accuracy: 0.8932 - val_loss: 0.4346 - val_micro_f1: 0.8586 - val_sparse_categorical_accuracy: 0.8583\n",
      "Epoch 32/50\n",
      "44/44 [==============================] - 0s 9ms/step - loss: 0.4196 - micro_f1: 0.8767 - sparse_categorical_accuracy: 0.8766 - val_loss: 0.4290 - val_micro_f1: 0.8668 - val_sparse_categorical_accuracy: 0.8667\n",
      "Epoch 33/50\n",
      "44/44 [==============================] - 0s 9ms/step - loss: 0.4021 - micro_f1: 0.8982 - sparse_categorical_accuracy: 0.8982 - val_loss: 0.4110 - val_micro_f1: 0.8734 - val_sparse_categorical_accuracy: 0.8733\n",
      "Epoch 34/50\n",
      "44/44 [==============================] - 0s 8ms/step - loss: 0.3889 - micro_f1: 0.9028 - sparse_categorical_accuracy: 0.9029 - val_loss: 0.3892 - val_micro_f1: 0.8882 - val_sparse_categorical_accuracy: 0.8883\n",
      "Epoch 35/50\n",
      "44/44 [==============================] - 0s 8ms/step - loss: 0.3917 - micro_f1: 0.8880 - sparse_categorical_accuracy: 0.8880 - val_loss: 0.3982 - val_micro_f1: 0.8651 - val_sparse_categorical_accuracy: 0.8650\n",
      "Epoch 36/50\n",
      "44/44 [==============================] - 0s 9ms/step - loss: 0.4070 - micro_f1: 0.8861 - sparse_categorical_accuracy: 0.8861 - val_loss: 0.3925 - val_micro_f1: 0.8734 - val_sparse_categorical_accuracy: 0.8733\n",
      "Epoch 37/50\n",
      "44/44 [==============================] - 0s 9ms/step - loss: 0.4005 - micro_f1: 0.8887 - sparse_categorical_accuracy: 0.8887 - val_loss: 0.3979 - val_micro_f1: 0.8734 - val_sparse_categorical_accuracy: 0.8733\n",
      "Epoch 38/50\n",
      "44/44 [==============================] - 0s 9ms/step - loss: 0.3598 - micro_f1: 0.8925 - sparse_categorical_accuracy: 0.8925 - val_loss: 0.4022 - val_micro_f1: 0.8816 - val_sparse_categorical_accuracy: 0.8817\n",
      "Epoch 39/50\n",
      "44/44 [==============================] - 0s 8ms/step - loss: 0.3797 - micro_f1: 0.9007 - sparse_categorical_accuracy: 0.9006 - val_loss: 0.3891 - val_micro_f1: 0.8810 - val_sparse_categorical_accuracy: 0.8817\n",
      "Epoch 40/50\n",
      "44/44 [==============================] - 0s 9ms/step - loss: 0.3760 - micro_f1: 0.9088 - sparse_categorical_accuracy: 0.9089 - val_loss: 0.3767 - val_micro_f1: 0.8832 - val_sparse_categorical_accuracy: 0.8833\n",
      "Epoch 41/50\n",
      "44/44 [==============================] - 0s 9ms/step - loss: 0.3434 - micro_f1: 0.8994 - sparse_categorical_accuracy: 0.8994 - val_loss: 0.3879 - val_micro_f1: 0.8843 - val_sparse_categorical_accuracy: 0.8850\n",
      "Epoch 42/50\n",
      "44/44 [==============================] - 0s 9ms/step - loss: 0.3964 - micro_f1: 0.8887 - sparse_categorical_accuracy: 0.8887 - val_loss: 0.3760 - val_micro_f1: 0.8953 - val_sparse_categorical_accuracy: 0.8950\n",
      "Epoch 43/50\n",
      "44/44 [==============================] - 0s 9ms/step - loss: 0.3738 - micro_f1: 0.8923 - sparse_categorical_accuracy: 0.8923 - val_loss: 0.3830 - val_micro_f1: 0.8980 - val_sparse_categorical_accuracy: 0.8983\n",
      "Epoch 44/50\n",
      "44/44 [==============================] - 0s 8ms/step - loss: 0.3511 - micro_f1: 0.8975 - sparse_categorical_accuracy: 0.8975 - val_loss: 0.3749 - val_micro_f1: 0.8909 - val_sparse_categorical_accuracy: 0.8917\n",
      "Epoch 45/50\n",
      "44/44 [==============================] - 0s 9ms/step - loss: 0.3495 - micro_f1: 0.9161 - sparse_categorical_accuracy: 0.9161 - val_loss: 0.3920 - val_micro_f1: 0.8799 - val_sparse_categorical_accuracy: 0.8800\n",
      "Epoch 46/50\n",
      "44/44 [==============================] - 0s 9ms/step - loss: 0.3450 - micro_f1: 0.9168 - sparse_categorical_accuracy: 0.9168 - val_loss: 0.3488 - val_micro_f1: 0.9068 - val_sparse_categorical_accuracy: 0.9083\n",
      "Epoch 47/50\n",
      "44/44 [==============================] - 0s 8ms/step - loss: 0.3768 - micro_f1: 0.9036 - sparse_categorical_accuracy: 0.9036 - val_loss: 0.3526 - val_micro_f1: 0.8920 - val_sparse_categorical_accuracy: 0.8917\n",
      "Epoch 48/50\n",
      "44/44 [==============================] - 0s 9ms/step - loss: 0.3080 - micro_f1: 0.9185 - sparse_categorical_accuracy: 0.9185 - val_loss: 0.3515 - val_micro_f1: 0.8969 - val_sparse_categorical_accuracy: 0.8967\n",
      "Epoch 49/50\n",
      "44/44 [==============================] - 0s 9ms/step - loss: 0.3460 - micro_f1: 0.9011 - sparse_categorical_accuracy: 0.9010 - val_loss: 0.3477 - val_micro_f1: 0.9052 - val_sparse_categorical_accuracy: 0.9050\n",
      "Epoch 50/50\n",
      "44/44 [==============================] - 0s 9ms/step - loss: 0.3224 - micro_f1: 0.9175 - sparse_categorical_accuracy: 0.9175 - val_loss: 0.3411 - val_micro_f1: 0.8975 - val_sparse_categorical_accuracy: 0.8983\n"
     ]
    }
   ],
   "source": [
    "def micro_f1_score(y_true,y_pred):\n",
    "  return f1_score(y_true, np.argmax(y_pred,axis=1), average='micro')\n",
    "\n",
    "def micro_f1(y_true, y_pred):\n",
    "  return tf.py_function(func=micro_f1_score, inp=[y_true,y_pred], Tout=tf.float32)\n",
    "\n",
    "loss = tf.losses.SparseCategoricalCrossentropy()\n",
    "acc = tf.metrics.SparseCategoricalAccuracy()\n",
    "\n",
    "Adam = tf.optimizers.Adam()\n",
    "\n",
    "early_stopping = tf.keras.callbacks.EarlyStopping(monitor='loss', patience=5)\n",
    "\n",
    "model.compile(optimizer=Adam, loss = loss, metrics=[micro_f1, acc])\n",
    "\n",
    "history = model.fit(x=X_train_spectrogram, y=y_train, batch_size=32, epochs=50, \\\n",
    "                    validation_data  = (X_test_spectrogram, y_test))"
   ]
  },
  {
   "cell_type": "code",
   "execution_count": 15,
   "metadata": {
    "colab": {
     "base_uri": "https://localhost:8080/",
     "height": 295
    },
    "id": "VtMsbGs3aNp_",
    "outputId": "199b2e87-7859-40e9-9247-ff1449fc2edf"
   },
   "outputs": [
    {
     "data": {
      "image/png": "[encoded data removed]",
      "text/plain": [
       "<Figure size 432x288 with 1 Axes>"
      ]
     },
     "metadata": {
      "needs_background": "light",
      "tags": []
     },
     "output_type": "display_data"
    }
   ],
   "source": [
    "plt.plot(history.history['loss'])\n",
    "plt.plot(history.history['val_loss'])\n",
    "plt.title('model loss')\n",
    "plt.ylabel('loss')\n",
    "plt.xlabel('epoch')\n",
    "plt.legend(['train', 'test'], loc='upper left')\n",
    "plt.show()"
   ]
  },
  {
   "cell_type": "code",
   "execution_count": 16,
   "metadata": {
    "colab": {
     "base_uri": "https://localhost:8080/",
     "height": 295
    },
    "id": "xH4tKqixyCxc",
    "outputId": "9cc9a0d0-e7dc-4d0f-a49e-221333e7da49"
   },
   "outputs": [
    {
     "data": {
      "image/png": "[encoded data removed]",
      "text/plain": [
       "<Figure size 432x288 with 1 Axes>"
      ]
     },
     "metadata": {
      "needs_background": "light",
      "tags": []
     },
     "output_type": "display_data"
    }
   ],
   "source": [
    "plt.plot(history.history['micro_f1'])\n",
    "plt.plot(history.history['val_micro_f1'])\n",
    "plt.title('f1_score')\n",
    "plt.ylabel('loss')\n",
    "plt.xlabel('epoch')\n",
    "plt.legend(['train', 'test'], loc='upper left')\n",
    "plt.show()"
   ]
  },
  {
   "cell_type": "markdown",
   "metadata": {
    "id": "aSl8ZOXjaNqJ"
   },
   "source": [
    "### 3. data augmentation  \n",
    "<pre>\n",
    "Till now we have done with 2000 samples only. It is very less data. We are giving the process of generating augmented data below.\n",
    "\n",
    "There are two types of augmentation:\n",
    "1. time stretching - Time stretching either increases or decreases the length of the file. For time stretching we move the file 30% faster or slower\n",
    "2. pitch shifting - pitch shifting moves the frequencies higher or lower. For pitch shifting we shift up or down one half-step.\n",
    "</pre>"
   ]
  },
  {
   "cell_type": "code",
   "execution_count": null,
   "metadata": {
    "id": "jR4JSEDgaNqK"
   },
   "outputs": [],
   "source": [
    "## generating augmented data. \n",
    "def generate_augmented_data(file_path):\n",
    "    augmented_data = []\n",
    "    samples = load_wav(file_path,get_duration=False)\n",
    "    for time_value in [0.7, 1, 1.3]:\n",
    "        for pitch_value in [-1, 0, 1]:\n",
    "            time_stretch_data = librosa.effects.time_stretch(samples, rate=time_value)\n",
    "            final_data = librosa.effects.pitch_shift(time_stretch_data, sr=sample_rate, n_steps=pitch_value)\n",
    "            augmented_data.append(final_data)\n",
    "    return augmented_data"
   ]
  },
  {
   "cell_type": "code",
   "execution_count": null,
   "metadata": {
    "id": "QRdefb-SaNqS"
   },
   "outputs": [],
   "source": [
    "temp_path = df_audio.iloc[0].path\n",
    "aug_temp = generate_augmented_data(temp_path)"
   ]
  },
  {
   "cell_type": "code",
   "execution_count": null,
   "metadata": {
    "id": "kzdG3iS-aNqc",
    "outputId": "0f17e45e-63a0-4986-8f69-05e2dbd71bac"
   },
   "outputs": [
    {
     "data": {
      "text/plain": [
       "9"
      ]
     },
     "execution_count": 31,
     "metadata": {
      "tags": []
     },
     "output_type": "execute_result"
    }
   ],
   "source": [
    "len(aug_temp)"
   ]
  },
  {
   "cell_type": "markdown",
   "metadata": {
    "id": "ZckytZsraNqk"
   },
   "source": [
    "As discussed above, for one data point, we will get 9 augmented data points.  \n",
    "\n",
    "Split data into train and test (80-20 split)\n",
    "\n",
    "We have 2000 data points(1600 train points, 400 test points) \n",
    "\n",
    "Do augmentation only on train data, after augmentation we will get 14400 train points. \n",
    "\n",
    "do the above steps i.e training with raw data and spectrogram data with augmentation."
   ]
  },
  {
   "cell_type": "code",
   "execution_count": null,
   "metadata": {
    "id": "AdKXVRlpaNql"
   },
   "outputs": [],
   "source": [
    "X_train, X_test, y_train, y_test = train_test_split(df_audio['path'], df_audio['label'], test_size=0.2,stratify = df_audio['label'], random_state=45)"
   ]
  },
  {
   "cell_type": "code",
   "execution_count": null,
   "metadata": {
    "colab": {
     "base_uri": "https://localhost:8080/"
    },
    "id": "ze2O8M8yyIEV",
    "outputId": "74e4482b-f3ac-490d-af5b-7a69110c5ab2"
   },
   "outputs": [
    {
     "name": "stdout",
     "output_type": "stream",
     "text": [
      "(14400,) (14400,)\n",
      "(400,) (400,)\n"
     ]
    }
   ],
   "source": [
    "X_train_processed = []\n",
    "paths = X_train.values\n",
    "for path in paths:\n",
    "  X_train_processed += generate_augmented_data(path)\n",
    "X_train_processed = np.array(X_train_processed, dtype = 'object')\n",
    "\n",
    "X_test_processed = processing(X_test)\n",
    "X_test_processed  = X_test_processed['raw_data'].values\n",
    "y_train = y_train.loc[y_train.index.repeat(9)]\n",
    "print(X_train_processed.shape, y_train.shape)\n",
    "print(X_test_processed.shape, y_test.shape)"
   ]
  },
  {
   "cell_type": "code",
   "execution_count": 18,
   "metadata": {
    "colab": {
     "base_uri": "https://localhost:8080/"
    },
    "id": "vi_DKJD7yIAW",
    "outputId": "83a3bd4f-52f7-49de-b2b0-d0e230df65f6"
   },
   "outputs": [
    {
     "name": "stdout",
     "output_type": "stream",
     "text": [
      "(14400, 17640) (400, 17640)\n",
      "(14400, 17640) (400, 17640)\n"
     ]
    }
   ],
   "source": [
    "# def mask(X):\n",
    "#   x_mask = []\n",
    "#   for i in X:\n",
    "#     x_mask.append([True if j !=0 else False for j in i])\n",
    "#   return np.array(x_mask)\n",
    "\n",
    "# X_train_pad_seq  = pad_sequences(X_train_processed, maxlen = 17640, padding='post', truncating='post', dtype='float32')\n",
    "# X_test_pad_seq  = pad_sequences(X_test_processed, maxlen = 17640, padding='post', truncating='post', dtype='float32')\n",
    "\n",
    "# X_train_mask = mask(X_train_pad_seq)\n",
    "# X_test_mask = mask(X_test_pad_seq)\n",
    "\n",
    "print(X_train_pad_seq.shape, X_test_pad_seq.shape)\n",
    "print(X_train_mask.shape, X_test_mask.shape)"
   ]
  },
  {
   "cell_type": "code",
   "execution_count": null,
   "metadata": {
    "id": "iSMbXL1bDrM1"
   },
   "outputs": [],
   "source": [
    "with open('/content/drive/MyDrive/assgn30/aug_data.pkl','wb') as f:\n",
    "  pickle.dump(X_train_pad_seq, f)\n",
    "  pickle.dump(X_test_pad_seq, f)\n",
    "  pickle.dump(X_train_mask, f)\n",
    "  pickle.dump(X_test_mask, f)\n",
    "  pickle.dump(y_train, f)\n",
    "  pickle.dump(y_test, f)"
   ]
  },
  {
   "cell_type": "code",
   "execution_count": 17,
   "metadata": {
    "id": "89DDrQumEHHN"
   },
   "outputs": [],
   "source": [
    "with open('/content/drive/MyDrive/assgn30/aug_data.pkl','rb') as f:\n",
    "  X_train_pad_seq = pickle.load(f)\n",
    "  X_test_pad_seq = pickle.load(f)\n",
    "  X_train_mask = pickle.load(f)\n",
    "  X_test_mask = pickle.load(f)\n",
    "  y_train = pickle.load(f)\n",
    "  y_test = pickle.load(f)"
   ]
  },
  {
   "cell_type": "code",
   "execution_count": null,
   "metadata": {
    "colab": {
     "base_uri": "https://localhost:8080/"
    },
    "id": "oBcqQSuOyH-X",
    "outputId": "56cda054-487b-4e7a-d872-c939765951f8"
   },
   "outputs": [
    {
     "name": "stdout",
     "output_type": "stream",
     "text": [
      "(14400, 17640, 1) (400, 17640, 1)\n"
     ]
    }
   ],
   "source": [
    "X_tr = np.expand_dims(X_train_pad_seq, axis=-1)\n",
    "X_te = np.expand_dims(X_test_pad_seq, axis=-1)\n",
    "\n",
    "print(X_tr.shape,X_te.shape)"
   ]
  },
  {
   "cell_type": "code",
   "execution_count": null,
   "metadata": {
    "colab": {
     "base_uri": "https://localhost:8080/"
    },
    "id": "7WalnCS_yH8j",
    "outputId": "71977e2f-4cb6-47f5-f48f-96d3e8c6e56f"
   },
   "outputs": [
    {
     "name": "stdout",
     "output_type": "stream",
     "text": [
      "Model: \"model_1\"\n",
      "__________________________________________________________________________________________________\n",
      "Layer (type)                    Output Shape         Param #     Connected to                     \n",
      "==================================================================================================\n",
      "input_layer (InputLayer)        [(None, 17640, 1)]   0                                            \n",
      "__________________________________________________________________________________________________\n",
      "input_mask (InputLayer)         [(None, 17640)]      0                                            \n",
      "__________________________________________________________________________________________________\n",
      "lstm_1 (LSTM)                   (None, 25)           2700        input_layer[0][0]                \n",
      "                                                                 input_mask[0][0]                 \n",
      "__________________________________________________________________________________________________\n",
      "dense_2 (Dense)                 (None, 50)           1300        lstm_1[0][0]                     \n",
      "__________________________________________________________________________________________________\n",
      "dense_3 (Dense)                 (None, 10)           510         dense_2[0][0]                    \n",
      "==================================================================================================\n",
      "Total params: 4,510\n",
      "Trainable params: 4,510\n",
      "Non-trainable params: 0\n",
      "__________________________________________________________________________________________________\n"
     ]
    }
   ],
   "source": [
    "input = Input(shape=(17640,1), name='input_layer', dtype = 'float32')\n",
    "input_mask = Input(shape=(17640), name='input_mask', dtype = 'bool')\n",
    "lstm = LSTM(25)(input, mask = input_mask)\n",
    "dense = Dense(50, activation='relu')(lstm)\n",
    "dense_1 = Dense(10, activation='softmax')(dense)\n",
    "\n",
    "model = Model(inputs = [input, input_mask], outputs= dense_1)\n",
    "model.summary()"
   ]
  },
  {
   "cell_type": "code",
   "execution_count": null,
   "metadata": {
    "colab": {
     "base_uri": "https://localhost:8080/"
    },
    "id": "U3b2VZnV2I5s",
    "outputId": "7a8070f5-7db0-4eb0-d121-4db5903ac6f8"
   },
   "outputs": [
    {
     "name": "stdout",
     "output_type": "stream",
     "text": [
      "Epoch 1/50\n",
      "450/450 [==============================] - 195s 427ms/step - loss: 2.3033 - micro_f1: 0.0972 - sparse_categorical_accuracy: 0.0979 - val_loss: 2.3026 - val_micro_f1: 0.1034 - val_sparse_categorical_accuracy: 0.1000\n",
      "Epoch 2/50\n",
      "450/450 [==============================] - 192s 426ms/step - loss: 2.3027 - micro_f1: 0.0975 - sparse_categorical_accuracy: 0.0975 - val_loss: 2.3026 - val_micro_f1: 0.1034 - val_sparse_categorical_accuracy: 0.1000\n",
      "Epoch 3/50\n",
      "450/450 [==============================] - 190s 423ms/step - loss: 2.3027 - micro_f1: 0.0971 - sparse_categorical_accuracy: 0.0971 - val_loss: 2.3026 - val_micro_f1: 0.0986 - val_sparse_categorical_accuracy: 0.1000\n",
      "Epoch 4/50\n",
      "450/450 [==============================] - 189s 421ms/step - loss: 2.3028 - micro_f1: 0.0920 - sparse_categorical_accuracy: 0.0920 - val_loss: 2.3026 - val_micro_f1: 0.1034 - val_sparse_categorical_accuracy: 0.1000\n",
      "Epoch 5/50\n",
      "450/450 [==============================] - 192s 427ms/step - loss: 2.3027 - micro_f1: 0.0937 - sparse_categorical_accuracy: 0.0937 - val_loss: 2.3026 - val_micro_f1: 0.1010 - val_sparse_categorical_accuracy: 0.1000\n",
      "Epoch 6/50\n",
      "450/450 [==============================] - 191s 423ms/step - loss: 2.3027 - micro_f1: 0.0950 - sparse_categorical_accuracy: 0.0950 - val_loss: 2.3026 - val_micro_f1: 0.1010 - val_sparse_categorical_accuracy: 0.1000\n",
      "Epoch 7/50\n",
      "450/450 [==============================] - 192s 426ms/step - loss: 2.3027 - micro_f1: 0.0949 - sparse_categorical_accuracy: 0.0949 - val_loss: 2.3026 - val_micro_f1: 0.1034 - val_sparse_categorical_accuracy: 0.1000\n",
      "Epoch 8/50\n",
      "450/450 [==============================] - 188s 418ms/step - loss: 2.3028 - micro_f1: 0.1021 - sparse_categorical_accuracy: 0.1021 - val_loss: 2.3026 - val_micro_f1: 0.0962 - val_sparse_categorical_accuracy: 0.1000\n",
      "Epoch 9/50\n",
      "450/450 [==============================] - 191s 424ms/step - loss: 2.3027 - micro_f1: 0.0926 - sparse_categorical_accuracy: 0.0926 - val_loss: 2.3026 - val_micro_f1: 0.0962 - val_sparse_categorical_accuracy: 0.1000\n",
      "Epoch 10/50\n",
      "450/450 [==============================] - 190s 421ms/step - loss: 2.3027 - micro_f1: 0.0938 - sparse_categorical_accuracy: 0.0938 - val_loss: 2.3026 - val_micro_f1: 0.0986 - val_sparse_categorical_accuracy: 0.1000\n",
      "Epoch 11/50\n",
      "450/450 [==============================] - 188s 418ms/step - loss: 2.3030 - micro_f1: 0.0930 - sparse_categorical_accuracy: 0.0930 - val_loss: 2.3027 - val_micro_f1: 0.1010 - val_sparse_categorical_accuracy: 0.1000\n",
      "Epoch 12/50\n",
      "450/450 [==============================] - 191s 423ms/step - loss: 2.3029 - micro_f1: 0.0941 - sparse_categorical_accuracy: 0.0941 - val_loss: 2.3026 - val_micro_f1: 0.1010 - val_sparse_categorical_accuracy: 0.1000\n",
      "Epoch 13/50\n",
      "450/450 [==============================] - 190s 423ms/step - loss: 2.3028 - micro_f1: 0.0983 - sparse_categorical_accuracy: 0.0983 - val_loss: 2.3025 - val_micro_f1: 0.1010 - val_sparse_categorical_accuracy: 0.1000\n",
      "Epoch 14/50\n",
      "450/450 [==============================] - 191s 424ms/step - loss: 2.3027 - micro_f1: 0.0988 - sparse_categorical_accuracy: 0.0988 - val_loss: 2.3025 - val_micro_f1: 0.1034 - val_sparse_categorical_accuracy: 0.1075\n",
      "Epoch 15/50\n",
      "450/450 [==============================] - 189s 421ms/step - loss: 2.3027 - micro_f1: 0.0911 - sparse_categorical_accuracy: 0.0911 - val_loss: 2.3025 - val_micro_f1: 0.0962 - val_sparse_categorical_accuracy: 0.1000\n",
      "Epoch 16/50\n",
      "450/450 [==============================] - 190s 422ms/step - loss: 2.3025 - micro_f1: 0.0986 - sparse_categorical_accuracy: 0.0986 - val_loss: 2.3026 - val_micro_f1: 0.1058 - val_sparse_categorical_accuracy: 0.1025\n",
      "Epoch 17/50\n",
      "450/450 [==============================] - 190s 423ms/step - loss: 2.3022 - micro_f1: 0.1021 - sparse_categorical_accuracy: 0.1021 - val_loss: 2.3026 - val_micro_f1: 0.0962 - val_sparse_categorical_accuracy: 0.1000\n",
      "Epoch 18/50\n",
      "450/450 [==============================] - 192s 426ms/step - loss: 2.3021 - micro_f1: 0.1004 - sparse_categorical_accuracy: 0.1004 - val_loss: 2.3025 - val_micro_f1: 0.0986 - val_sparse_categorical_accuracy: 0.0975\n",
      "Epoch 19/50\n",
      "450/450 [==============================] - 191s 423ms/step - loss: 2.3020 - micro_f1: 0.1000 - sparse_categorical_accuracy: 0.1000 - val_loss: 2.3023 - val_micro_f1: 0.0986 - val_sparse_categorical_accuracy: 0.0975\n",
      "Epoch 20/50\n",
      "450/450 [==============================] - 192s 427ms/step - loss: 2.3010 - micro_f1: 0.0972 - sparse_categorical_accuracy: 0.0972 - val_loss: 2.3024 - val_micro_f1: 0.1010 - val_sparse_categorical_accuracy: 0.1025\n",
      "Epoch 21/50\n",
      "450/450 [==============================] - 190s 421ms/step - loss: 2.3025 - micro_f1: 0.0996 - sparse_categorical_accuracy: 0.0996 - val_loss: 2.3024 - val_micro_f1: 0.1034 - val_sparse_categorical_accuracy: 0.1050\n",
      "Epoch 22/50\n",
      "450/450 [==============================] - 193s 428ms/step - loss: 2.3018 - micro_f1: 0.1038 - sparse_categorical_accuracy: 0.1038 - val_loss: 2.3015 - val_micro_f1: 0.1106 - val_sparse_categorical_accuracy: 0.1150\n",
      "Epoch 23/50\n",
      "450/450 [==============================] - 190s 422ms/step - loss: 2.3012 - micro_f1: 0.1073 - sparse_categorical_accuracy: 0.1073 - val_loss: 2.3015 - val_micro_f1: 0.0865 - val_sparse_categorical_accuracy: 0.0875\n",
      "Epoch 24/50\n",
      "450/450 [==============================] - 191s 425ms/step - loss: 2.3018 - micro_f1: 0.1004 - sparse_categorical_accuracy: 0.1004 - val_loss: 2.3013 - val_micro_f1: 0.1082 - val_sparse_categorical_accuracy: 0.1075\n",
      "Epoch 25/50\n",
      "450/450 [==============================] - 190s 422ms/step - loss: 2.3011 - micro_f1: 0.1031 - sparse_categorical_accuracy: 0.1031 - val_loss: 2.3017 - val_micro_f1: 0.0986 - val_sparse_categorical_accuracy: 0.0975\n",
      "Epoch 26/50\n",
      "450/450 [==============================] - 193s 429ms/step - loss: 2.3007 - micro_f1: 0.1063 - sparse_categorical_accuracy: 0.1063 - val_loss: 2.3013 - val_micro_f1: 0.0962 - val_sparse_categorical_accuracy: 0.0975\n",
      "Epoch 27/50\n",
      "450/450 [==============================] - 193s 429ms/step - loss: 2.2998 - micro_f1: 0.1052 - sparse_categorical_accuracy: 0.1052 - val_loss: 2.3006 - val_micro_f1: 0.1178 - val_sparse_categorical_accuracy: 0.1150\n",
      "Epoch 28/50\n",
      "450/450 [==============================] - 192s 427ms/step - loss: 2.2968 - micro_f1: 0.1030 - sparse_categorical_accuracy: 0.1030 - val_loss: 2.3003 - val_micro_f1: 0.1298 - val_sparse_categorical_accuracy: 0.1250\n",
      "Epoch 29/50\n",
      "450/450 [==============================] - 192s 426ms/step - loss: 2.2964 - micro_f1: 0.1159 - sparse_categorical_accuracy: 0.1159 - val_loss: 2.3015 - val_micro_f1: 0.1250 - val_sparse_categorical_accuracy: 0.1250\n",
      "Epoch 30/50\n",
      "450/450 [==============================] - 190s 423ms/step - loss: 2.2968 - micro_f1: 0.1247 - sparse_categorical_accuracy: 0.1247 - val_loss: 2.2985 - val_micro_f1: 0.1154 - val_sparse_categorical_accuracy: 0.1200\n",
      "Epoch 31/50\n",
      "450/450 [==============================] - 190s 423ms/step - loss: 2.2946 - micro_f1: 0.1224 - sparse_categorical_accuracy: 0.1224 - val_loss: 2.3029 - val_micro_f1: 0.0962 - val_sparse_categorical_accuracy: 0.0950\n",
      "Epoch 32/50\n",
      "450/450 [==============================] - 190s 422ms/step - loss: 2.2966 - micro_f1: 0.1137 - sparse_categorical_accuracy: 0.1137 - val_loss: 2.3019 - val_micro_f1: 0.1082 - val_sparse_categorical_accuracy: 0.1075\n",
      "Epoch 33/50\n",
      "450/450 [==============================] - 190s 421ms/step - loss: 2.2949 - micro_f1: 0.1090 - sparse_categorical_accuracy: 0.1090 - val_loss: 2.3029 - val_micro_f1: 0.1178 - val_sparse_categorical_accuracy: 0.1175\n",
      "Epoch 34/50\n",
      "450/450 [==============================] - 190s 422ms/step - loss: 2.2937 - micro_f1: 0.1214 - sparse_categorical_accuracy: 0.1214 - val_loss: 2.3036 - val_micro_f1: 0.1226 - val_sparse_categorical_accuracy: 0.1225\n",
      "Epoch 35/50\n",
      "450/450 [==============================] - 190s 423ms/step - loss: 2.2944 - micro_f1: 0.1124 - sparse_categorical_accuracy: 0.1124 - val_loss: 2.3030 - val_micro_f1: 0.1202 - val_sparse_categorical_accuracy: 0.1175\n",
      "Epoch 36/50\n",
      "450/450 [==============================] - 188s 418ms/step - loss: 2.2915 - micro_f1: 0.1220 - sparse_categorical_accuracy: 0.1220 - val_loss: 2.3017 - val_micro_f1: 0.1130 - val_sparse_categorical_accuracy: 0.1100\n",
      "Epoch 37/50\n",
      "450/450 [==============================] - 191s 423ms/step - loss: 2.2906 - micro_f1: 0.1217 - sparse_categorical_accuracy: 0.1217 - val_loss: 2.3069 - val_micro_f1: 0.1154 - val_sparse_categorical_accuracy: 0.1150\n",
      "Epoch 38/50\n",
      "450/450 [==============================] - 190s 423ms/step - loss: 2.2872 - micro_f1: 0.1221 - sparse_categorical_accuracy: 0.1221 - val_loss: 2.3191 - val_micro_f1: 0.0962 - val_sparse_categorical_accuracy: 0.0975\n",
      "Epoch 39/50\n",
      "450/450 [==============================] - 190s 423ms/step - loss: 2.2860 - micro_f1: 0.1223 - sparse_categorical_accuracy: 0.1223 - val_loss: 2.3090 - val_micro_f1: 0.1322 - val_sparse_categorical_accuracy: 0.1300\n",
      "Epoch 40/50\n",
      "450/450 [==============================] - 190s 423ms/step - loss: 2.2877 - micro_f1: 0.1247 - sparse_categorical_accuracy: 0.1247 - val_loss: 2.3010 - val_micro_f1: 0.1034 - val_sparse_categorical_accuracy: 0.1025\n",
      "Epoch 41/50\n",
      "450/450 [==============================] - 191s 425ms/step - loss: 2.2876 - micro_f1: 0.1254 - sparse_categorical_accuracy: 0.1254 - val_loss: 2.2948 - val_micro_f1: 0.1034 - val_sparse_categorical_accuracy: 0.1025\n",
      "Epoch 42/50\n",
      "450/450 [==============================] - 191s 425ms/step - loss: 2.2832 - micro_f1: 0.1251 - sparse_categorical_accuracy: 0.1251 - val_loss: 2.2920 - val_micro_f1: 0.1154 - val_sparse_categorical_accuracy: 0.1150\n",
      "Epoch 43/50\n",
      "450/450 [==============================] - 193s 428ms/step - loss: 2.2813 - micro_f1: 0.1227 - sparse_categorical_accuracy: 0.1227 - val_loss: 2.2929 - val_micro_f1: 0.1442 - val_sparse_categorical_accuracy: 0.1425\n",
      "Epoch 44/50\n",
      "450/450 [==============================] - 193s 429ms/step - loss: 2.2783 - micro_f1: 0.1241 - sparse_categorical_accuracy: 0.1241 - val_loss: 2.2853 - val_micro_f1: 0.1322 - val_sparse_categorical_accuracy: 0.1325\n",
      "Epoch 45/50\n",
      "450/450 [==============================] - 193s 430ms/step - loss: 2.2736 - micro_f1: 0.1343 - sparse_categorical_accuracy: 0.1343 - val_loss: 2.2852 - val_micro_f1: 0.1442 - val_sparse_categorical_accuracy: 0.1450\n",
      "Epoch 46/50\n",
      "450/450 [==============================] - 192s 426ms/step - loss: 2.2695 - micro_f1: 0.1331 - sparse_categorical_accuracy: 0.1331 - val_loss: 2.2909 - val_micro_f1: 0.1322 - val_sparse_categorical_accuracy: 0.1325\n",
      "Epoch 47/50\n",
      "450/450 [==============================] - 191s 424ms/step - loss: 2.2616 - micro_f1: 0.1330 - sparse_categorical_accuracy: 0.1330 - val_loss: 2.2778 - val_micro_f1: 0.1130 - val_sparse_categorical_accuracy: 0.1175\n",
      "Epoch 48/50\n",
      "450/450 [==============================] - 197s 438ms/step - loss: 2.2649 - micro_f1: 0.1344 - sparse_categorical_accuracy: 0.1344 - val_loss: 2.2856 - val_micro_f1: 0.1298 - val_sparse_categorical_accuracy: 0.1275\n",
      "Epoch 49/50\n",
      "450/450 [==============================] - 194s 431ms/step - loss: 2.2677 - micro_f1: 0.1332 - sparse_categorical_accuracy: 0.1332 - val_loss: 2.2943 - val_micro_f1: 0.1274 - val_sparse_categorical_accuracy: 0.1325\n",
      "Epoch 50/50\n",
      "450/450 [==============================] - 193s 429ms/step - loss: 2.2597 - micro_f1: 0.1355 - sparse_categorical_accuracy: 0.1355 - val_loss: 2.2786 - val_micro_f1: 0.1058 - val_sparse_categorical_accuracy: 0.1100\n"
     ]
    }
   ],
   "source": [
    "model.compile(optimizer=Adam, loss = loss, metrics=[micro_f1, acc])\n",
    "\n",
    "history = model.fit(x=[X_tr, X_train_mask], y=y_train, batch_size=32, epochs=50, \\\n",
    "                    validation_data  = ([X_te, X_test_mask], y_test), callbacks=[early_stopping])"
   ]
  },
  {
   "cell_type": "code",
   "execution_count": null,
   "metadata": {
    "colab": {
     "base_uri": "https://localhost:8080/",
     "height": 295
    },
    "id": "iFSKoDEG2j9m",
    "outputId": "bce4236e-02a0-4789-aa43-de6d829efad1"
   },
   "outputs": [
    {
     "data": {
      "image/png": "[encoded data removed]",
      "text/plain": [
       "<Figure size 432x288 with 1 Axes>"
      ]
     },
     "metadata": {
      "needs_background": "light",
      "tags": []
     },
     "output_type": "display_data"
    }
   ],
   "source": [
    "plt.plot(history.history['loss'])\n",
    "plt.plot(history.history['val_loss'])\n",
    "plt.title('model loss')\n",
    "plt.ylabel('loss')\n",
    "plt.xlabel('epoch')\n",
    "plt.legend(['train', 'test'], loc='upper left')\n",
    "plt.show()"
   ]
  },
  {
   "cell_type": "code",
   "execution_count": null,
   "metadata": {
    "colab": {
     "base_uri": "https://localhost:8080/",
     "height": 295
    },
    "id": "T8ZwdVow2m1f",
    "outputId": "62d7a6b0-02f7-4ca0-f52c-79d6d8497a14"
   },
   "outputs": [
    {
     "data": {
      "image/png": "[encoded data removed]",
      "text/plain": [
       "<Figure size 432x288 with 1 Axes>"
      ]
     },
     "metadata": {
      "needs_background": "light",
      "tags": []
     },
     "output_type": "display_data"
    }
   ],
   "source": [
    "plt.plot(history.history['micro_f1'])\n",
    "plt.plot(history.history['val_micro_f1'])\n",
    "plt.title('f1_score')\n",
    "plt.ylabel('loss')\n",
    "plt.xlabel('epoch')\n",
    "plt.legend(['train', 'test'], loc='upper left')\n",
    "plt.show()"
   ]
  },
  {
   "cell_type": "markdown",
   "metadata": {
    "id": "r8g-VhT02rTz"
   },
   "source": [
    "###4. Augmenting and using spectrogram"
   ]
  },
  {
   "cell_type": "code",
   "execution_count": 19,
   "metadata": {
    "id": "LW-GtnPr2yxG"
   },
   "outputs": [],
   "source": [
    "X_train_spectrogram = np.array(list(map(convert_to_spectrogram, X_train_pad_seq)))\n",
    "X_test_spectrogram = np.array(list(map(convert_to_spectrogram, X_test_pad_seq)))"
   ]
  },
  {
   "cell_type": "code",
   "execution_count": 20,
   "metadata": {
    "colab": {
     "base_uri": "https://localhost:8080/"
    },
    "id": "OyMRzah8cczU",
    "outputId": "56032e12-0093-483a-c8d3-e6d8f9e62f52"
   },
   "outputs": [
    {
     "name": "stdout",
     "output_type": "stream",
     "text": [
      "(14400, 64, 35) (400, 64, 35)\n"
     ]
    }
   ],
   "source": [
    "print(X_train_spectrogram.shape, X_test_spectrogram.shape)"
   ]
  },
  {
   "cell_type": "code",
   "execution_count": 22,
   "metadata": {
    "colab": {
     "base_uri": "https://localhost:8080/"
    },
    "id": "_Mcw4A3C6NUk",
    "outputId": "dbecbeda-4373-4e8c-d696-7aa98ce2c13a"
   },
   "outputs": [
    {
     "name": "stdout",
     "output_type": "stream",
     "text": [
      "Model: \"model_1\"\n",
      "_________________________________________________________________\n",
      "Layer (type)                 Output Shape              Param #   \n",
      "=================================================================\n",
      "input_layer (InputLayer)     [(None, 64, 35)]          0         \n",
      "_________________________________________________________________\n",
      "lstm_2 (LSTM)                (None, 64, 25)            6100      \n",
      "_________________________________________________________________\n",
      "global_average_pooling1d_2 ( (None, 64)                0         \n",
      "_________________________________________________________________\n",
      "dense_2 (Dense)              (None, 50)                3250      \n",
      "_________________________________________________________________\n",
      "dense_3 (Dense)              (None, 10)                510       \n",
      "=================================================================\n",
      "Total params: 9,860\n",
      "Trainable params: 9,860\n",
      "Non-trainable params: 0\n",
      "_________________________________________________________________\n"
     ]
    }
   ],
   "source": [
    "input = Input(shape=(64,35), name='input_layer', dtype = 'float32')\n",
    "lstm = LSTM(25, return_sequences=True)(input)\n",
    "average = GlobalAveragePooling1D(data_format='channels_first')(lstm)\n",
    "dense = Dense(50, activation='relu')(average)\n",
    "dense_1 = Dense(10, activation='softmax')(dense)\n",
    "\n",
    "model = Model(inputs=input, outputs=dense_1)\n",
    "model.summary()"
   ]
  },
  {
   "cell_type": "code",
   "execution_count": 23,
   "metadata": {
    "colab": {
     "base_uri": "https://localhost:8080/"
    },
    "id": "n8LfAB3r6NPD",
    "outputId": "53815eaa-8d64-43d7-aae7-0dbb29e1ac92"
   },
   "outputs": [
    {
     "name": "stdout",
     "output_type": "stream",
     "text": [
      "Epoch 1/50\n",
      "450/450 [==============================] - 4s 7ms/step - loss: 1.9536 - micro_f1: 0.2913 - sparse_categorical_accuracy: 0.3841 - val_loss: 1.0519 - val_micro_f1: 0.6611 - val_sparse_categorical_accuracy: 0.6625\n",
      "Epoch 2/50\n",
      "450/450 [==============================] - 3s 6ms/step - loss: 1.0389 - micro_f1: 0.6447 - sparse_categorical_accuracy: 0.6447 - val_loss: 0.8549 - val_micro_f1: 0.7308 - val_sparse_categorical_accuracy: 0.7275\n",
      "Epoch 3/50\n",
      "450/450 [==============================] - 3s 6ms/step - loss: 0.8484 - micro_f1: 0.7028 - sparse_categorical_accuracy: 0.7028 - val_loss: 0.7616 - val_micro_f1: 0.7620 - val_sparse_categorical_accuracy: 0.7575\n",
      "Epoch 4/50\n",
      "450/450 [==============================] - 3s 6ms/step - loss: 0.7511 - micro_f1: 0.7381 - sparse_categorical_accuracy: 0.7381 - val_loss: 0.6984 - val_micro_f1: 0.7692 - val_sparse_categorical_accuracy: 0.7675\n",
      "Epoch 5/50\n",
      "450/450 [==============================] - 3s 6ms/step - loss: 0.6784 - micro_f1: 0.7653 - sparse_categorical_accuracy: 0.7653 - val_loss: 0.6339 - val_micro_f1: 0.7692 - val_sparse_categorical_accuracy: 0.7675\n",
      "Epoch 6/50\n",
      "450/450 [==============================] - 3s 6ms/step - loss: 0.6037 - micro_f1: 0.7913 - sparse_categorical_accuracy: 0.7913 - val_loss: 0.6084 - val_micro_f1: 0.8053 - val_sparse_categorical_accuracy: 0.7975\n",
      "Epoch 7/50\n",
      "450/450 [==============================] - 3s 6ms/step - loss: 0.5894 - micro_f1: 0.8009 - sparse_categorical_accuracy: 0.8009 - val_loss: 0.5803 - val_micro_f1: 0.8029 - val_sparse_categorical_accuracy: 0.7975\n",
      "Epoch 8/50\n",
      "450/450 [==============================] - 3s 6ms/step - loss: 0.5868 - micro_f1: 0.7954 - sparse_categorical_accuracy: 0.7954 - val_loss: 0.4809 - val_micro_f1: 0.8606 - val_sparse_categorical_accuracy: 0.8575\n",
      "Epoch 9/50\n",
      "450/450 [==============================] - 3s 6ms/step - loss: 0.5032 - micro_f1: 0.8296 - sparse_categorical_accuracy: 0.8296 - val_loss: 0.4833 - val_micro_f1: 0.8630 - val_sparse_categorical_accuracy: 0.8575\n",
      "Epoch 10/50\n",
      "450/450 [==============================] - 3s 6ms/step - loss: 0.4804 - micro_f1: 0.8398 - sparse_categorical_accuracy: 0.8398 - val_loss: 0.4767 - val_micro_f1: 0.8558 - val_sparse_categorical_accuracy: 0.8550\n",
      "Epoch 11/50\n",
      "450/450 [==============================] - 3s 6ms/step - loss: 0.4747 - micro_f1: 0.8437 - sparse_categorical_accuracy: 0.8437 - val_loss: 0.4568 - val_micro_f1: 0.8389 - val_sparse_categorical_accuracy: 0.8425\n",
      "Epoch 12/50\n",
      "450/450 [==============================] - 3s 6ms/step - loss: 0.4572 - micro_f1: 0.8464 - sparse_categorical_accuracy: 0.8464 - val_loss: 0.4436 - val_micro_f1: 0.8702 - val_sparse_categorical_accuracy: 0.8675\n",
      "Epoch 13/50\n",
      "450/450 [==============================] - 3s 6ms/step - loss: 0.4232 - micro_f1: 0.8586 - sparse_categorical_accuracy: 0.8586 - val_loss: 0.4724 - val_micro_f1: 0.8510 - val_sparse_categorical_accuracy: 0.8475\n",
      "Epoch 14/50\n",
      "450/450 [==============================] - 3s 6ms/step - loss: 0.4398 - micro_f1: 0.8550 - sparse_categorical_accuracy: 0.8550 - val_loss: 0.4551 - val_micro_f1: 0.8486 - val_sparse_categorical_accuracy: 0.8450\n",
      "Epoch 15/50\n",
      "450/450 [==============================] - 3s 6ms/step - loss: 0.4206 - micro_f1: 0.8609 - sparse_categorical_accuracy: 0.8609 - val_loss: 0.4552 - val_micro_f1: 0.8389 - val_sparse_categorical_accuracy: 0.8350\n",
      "Epoch 16/50\n",
      "450/450 [==============================] - 3s 6ms/step - loss: 0.3968 - micro_f1: 0.8682 - sparse_categorical_accuracy: 0.8682 - val_loss: 0.4197 - val_micro_f1: 0.8606 - val_sparse_categorical_accuracy: 0.8550\n",
      "Epoch 17/50\n",
      "450/450 [==============================] - 3s 6ms/step - loss: 0.3777 - micro_f1: 0.8752 - sparse_categorical_accuracy: 0.8752 - val_loss: 0.4029 - val_micro_f1: 0.8630 - val_sparse_categorical_accuracy: 0.8575\n",
      "Epoch 18/50\n",
      "450/450 [==============================] - 3s 6ms/step - loss: 0.3698 - micro_f1: 0.8781 - sparse_categorical_accuracy: 0.8781 - val_loss: 0.3589 - val_micro_f1: 0.8798 - val_sparse_categorical_accuracy: 0.8750\n",
      "Epoch 19/50\n",
      "450/450 [==============================] - 3s 6ms/step - loss: 0.3606 - micro_f1: 0.8821 - sparse_categorical_accuracy: 0.8821 - val_loss: 0.4169 - val_micro_f1: 0.8510 - val_sparse_categorical_accuracy: 0.8450\n",
      "Epoch 20/50\n",
      "450/450 [==============================] - 3s 6ms/step - loss: 0.3496 - micro_f1: 0.8827 - sparse_categorical_accuracy: 0.8827 - val_loss: 0.3842 - val_micro_f1: 0.8702 - val_sparse_categorical_accuracy: 0.8650\n",
      "Epoch 21/50\n",
      "450/450 [==============================] - 3s 6ms/step - loss: 0.3504 - micro_f1: 0.8836 - sparse_categorical_accuracy: 0.8836 - val_loss: 0.3668 - val_micro_f1: 0.8726 - val_sparse_categorical_accuracy: 0.8675\n",
      "Epoch 22/50\n",
      "450/450 [==============================] - 3s 6ms/step - loss: 0.3252 - micro_f1: 0.8921 - sparse_categorical_accuracy: 0.8921 - val_loss: 0.3431 - val_micro_f1: 0.8942 - val_sparse_categorical_accuracy: 0.8900\n",
      "Epoch 23/50\n",
      "450/450 [==============================] - 3s 6ms/step - loss: 0.3286 - micro_f1: 0.8922 - sparse_categorical_accuracy: 0.8922 - val_loss: 0.3241 - val_micro_f1: 0.8990 - val_sparse_categorical_accuracy: 0.8975\n",
      "Epoch 24/50\n",
      "450/450 [==============================] - 3s 6ms/step - loss: 0.3297 - micro_f1: 0.8912 - sparse_categorical_accuracy: 0.8912 - val_loss: 0.3315 - val_micro_f1: 0.8726 - val_sparse_categorical_accuracy: 0.8700\n",
      "Epoch 25/50\n",
      "450/450 [==============================] - 3s 6ms/step - loss: 0.3165 - micro_f1: 0.8972 - sparse_categorical_accuracy: 0.8972 - val_loss: 0.3682 - val_micro_f1: 0.8750 - val_sparse_categorical_accuracy: 0.8725\n",
      "Epoch 26/50\n",
      "450/450 [==============================] - 3s 6ms/step - loss: 0.3084 - micro_f1: 0.8969 - sparse_categorical_accuracy: 0.8969 - val_loss: 0.3652 - val_micro_f1: 0.8966 - val_sparse_categorical_accuracy: 0.8925\n",
      "Epoch 27/50\n",
      "450/450 [==============================] - 3s 6ms/step - loss: 0.3288 - micro_f1: 0.8915 - sparse_categorical_accuracy: 0.8915 - val_loss: 0.3709 - val_micro_f1: 0.8726 - val_sparse_categorical_accuracy: 0.8700\n",
      "Epoch 28/50\n",
      "450/450 [==============================] - 3s 6ms/step - loss: 0.3098 - micro_f1: 0.8980 - sparse_categorical_accuracy: 0.8980 - val_loss: 0.3251 - val_micro_f1: 0.9135 - val_sparse_categorical_accuracy: 0.9100\n",
      "Epoch 29/50\n",
      "450/450 [==============================] - 3s 6ms/step - loss: 0.2970 - micro_f1: 0.8996 - sparse_categorical_accuracy: 0.8996 - val_loss: 0.3189 - val_micro_f1: 0.8990 - val_sparse_categorical_accuracy: 0.8975\n",
      "Epoch 30/50\n",
      "450/450 [==============================] - 3s 6ms/step - loss: 0.2854 - micro_f1: 0.9071 - sparse_categorical_accuracy: 0.9071 - val_loss: 0.3564 - val_micro_f1: 0.8822 - val_sparse_categorical_accuracy: 0.8800\n",
      "Epoch 31/50\n",
      "450/450 [==============================] - 3s 6ms/step - loss: 0.2819 - micro_f1: 0.9063 - sparse_categorical_accuracy: 0.9063 - val_loss: 0.3332 - val_micro_f1: 0.9014 - val_sparse_categorical_accuracy: 0.8975\n",
      "Epoch 32/50\n",
      "450/450 [==============================] - 3s 6ms/step - loss: 0.2833 - micro_f1: 0.9064 - sparse_categorical_accuracy: 0.9064 - val_loss: 0.3275 - val_micro_f1: 0.9159 - val_sparse_categorical_accuracy: 0.9125\n",
      "Epoch 33/50\n",
      "450/450 [==============================] - 3s 6ms/step - loss: 0.2824 - micro_f1: 0.9050 - sparse_categorical_accuracy: 0.9050 - val_loss: 0.3302 - val_micro_f1: 0.9111 - val_sparse_categorical_accuracy: 0.9075\n",
      "Epoch 34/50\n",
      "450/450 [==============================] - 3s 6ms/step - loss: 0.2709 - micro_f1: 0.9141 - sparse_categorical_accuracy: 0.9141 - val_loss: 0.2891 - val_micro_f1: 0.9183 - val_sparse_categorical_accuracy: 0.9150\n",
      "Epoch 35/50\n",
      "450/450 [==============================] - 3s 6ms/step - loss: 0.2819 - micro_f1: 0.9077 - sparse_categorical_accuracy: 0.9077 - val_loss: 0.2716 - val_micro_f1: 0.9255 - val_sparse_categorical_accuracy: 0.9225\n",
      "Epoch 36/50\n",
      "450/450 [==============================] - 3s 6ms/step - loss: 0.2626 - micro_f1: 0.9140 - sparse_categorical_accuracy: 0.9140 - val_loss: 0.2823 - val_micro_f1: 0.9014 - val_sparse_categorical_accuracy: 0.8975\n",
      "Epoch 37/50\n",
      "450/450 [==============================] - 3s 6ms/step - loss: 0.2623 - micro_f1: 0.9127 - sparse_categorical_accuracy: 0.9127 - val_loss: 0.3124 - val_micro_f1: 0.8966 - val_sparse_categorical_accuracy: 0.8950\n",
      "Epoch 38/50\n",
      "450/450 [==============================] - 3s 6ms/step - loss: 0.2675 - micro_f1: 0.9113 - sparse_categorical_accuracy: 0.9113 - val_loss: 0.2619 - val_micro_f1: 0.9255 - val_sparse_categorical_accuracy: 0.9225\n",
      "Epoch 39/50\n",
      "450/450 [==============================] - 3s 6ms/step - loss: 0.2504 - micro_f1: 0.9176 - sparse_categorical_accuracy: 0.9176 - val_loss: 0.2922 - val_micro_f1: 0.9159 - val_sparse_categorical_accuracy: 0.9125\n",
      "Epoch 40/50\n",
      "450/450 [==============================] - 3s 6ms/step - loss: 0.2426 - micro_f1: 0.9176 - sparse_categorical_accuracy: 0.9176 - val_loss: 0.2838 - val_micro_f1: 0.9111 - val_sparse_categorical_accuracy: 0.9075\n",
      "Epoch 41/50\n",
      "450/450 [==============================] - 3s 6ms/step - loss: 0.2482 - micro_f1: 0.9182 - sparse_categorical_accuracy: 0.9182 - val_loss: 0.3103 - val_micro_f1: 0.8966 - val_sparse_categorical_accuracy: 0.8925\n",
      "Epoch 42/50\n",
      "450/450 [==============================] - 3s 6ms/step - loss: 0.2257 - micro_f1: 0.9244 - sparse_categorical_accuracy: 0.9244 - val_loss: 0.2579 - val_micro_f1: 0.9183 - val_sparse_categorical_accuracy: 0.9150\n",
      "Epoch 43/50\n",
      "450/450 [==============================] - 3s 6ms/step - loss: 0.2333 - micro_f1: 0.9227 - sparse_categorical_accuracy: 0.9227 - val_loss: 0.2556 - val_micro_f1: 0.9303 - val_sparse_categorical_accuracy: 0.9300\n",
      "Epoch 44/50\n",
      "450/450 [==============================] - 3s 6ms/step - loss: 0.2206 - micro_f1: 0.9317 - sparse_categorical_accuracy: 0.9317 - val_loss: 0.2927 - val_micro_f1: 0.9038 - val_sparse_categorical_accuracy: 0.9000\n",
      "Epoch 45/50\n",
      "450/450 [==============================] - 3s 6ms/step - loss: 0.2109 - micro_f1: 0.9276 - sparse_categorical_accuracy: 0.9276 - val_loss: 0.2224 - val_micro_f1: 0.9255 - val_sparse_categorical_accuracy: 0.9250\n",
      "Epoch 46/50\n",
      "450/450 [==============================] - 3s 6ms/step - loss: 0.2036 - micro_f1: 0.9316 - sparse_categorical_accuracy: 0.9316 - val_loss: 0.2559 - val_micro_f1: 0.9087 - val_sparse_categorical_accuracy: 0.9050\n",
      "Epoch 47/50\n",
      "450/450 [==============================] - 3s 6ms/step - loss: 0.2131 - micro_f1: 0.9288 - sparse_categorical_accuracy: 0.9288 - val_loss: 0.2738 - val_micro_f1: 0.9207 - val_sparse_categorical_accuracy: 0.9175\n",
      "Epoch 48/50\n",
      "450/450 [==============================] - 3s 6ms/step - loss: 0.2012 - micro_f1: 0.9356 - sparse_categorical_accuracy: 0.9356 - val_loss: 0.2385 - val_micro_f1: 0.9231 - val_sparse_categorical_accuracy: 0.9250\n",
      "Epoch 49/50\n",
      "450/450 [==============================] - 3s 6ms/step - loss: 0.1940 - micro_f1: 0.9386 - sparse_categorical_accuracy: 0.9386 - val_loss: 0.2433 - val_micro_f1: 0.9183 - val_sparse_categorical_accuracy: 0.9175\n",
      "Epoch 50/50\n",
      "450/450 [==============================] - 3s 6ms/step - loss: 0.2153 - micro_f1: 0.9246 - sparse_categorical_accuracy: 0.9246 - val_loss: 0.2903 - val_micro_f1: 0.8942 - val_sparse_categorical_accuracy: 0.8900\n"
     ]
    }
   ],
   "source": [
    "model.compile(optimizer=Adam, loss = loss, metrics=[micro_f1, acc])\n",
    "\n",
    "history = model.fit(x=X_train_spectrogram, y=y_train, batch_size=32, epochs=50, \\\n",
    "                    validation_data  = (X_test_spectrogram, y_test))"
   ]
  },
  {
   "cell_type": "code",
   "execution_count": 24,
   "metadata": {
    "colab": {
     "base_uri": "https://localhost:8080/",
     "height": 295
    },
    "id": "87uUf_YS6XaN",
    "outputId": "e7230677-fd45-4651-90ac-e32918d755f7"
   },
   "outputs": [
    {
     "data": {
      "image/png": "[encoded data removed]",
      "text/plain": [
       "<Figure size 432x288 with 1 Axes>"
      ]
     },
     "metadata": {
      "needs_background": "light",
      "tags": []
     },
     "output_type": "display_data"
    }
   ],
   "source": [
    "plt.plot(history.history['loss'])\n",
    "plt.plot(history.history['val_loss'])\n",
    "plt.title('model loss')\n",
    "plt.ylabel('loss')\n",
    "plt.xlabel('epoch')\n",
    "plt.legend(['train', 'test'], loc='upper left')\n",
    "plt.show()"
   ]
  },
  {
   "cell_type": "code",
   "execution_count": 25,
   "metadata": {
    "colab": {
     "base_uri": "https://localhost:8080/",
     "height": 295
    },
    "id": "MIknVAwT6dEn",
    "outputId": "6be75519-a71b-427b-d74c-dd0cc071f8cb"
   },
   "outputs": [
    {
     "data": {
      "image/png": "[encoded data removed]",
      "text/plain": [
       "<Figure size 432x288 with 1 Axes>"
      ]
     },
     "metadata": {
      "needs_background": "light",
      "tags": []
     },
     "output_type": "display_data"
    }
   ],
   "source": [
    "plt.plot(history.history['micro_f1'])\n",
    "plt.plot(history.history['val_micro_f1'])\n",
    "plt.title('f1_score')\n",
    "plt.ylabel('loss')\n",
    "plt.xlabel('epoch')\n",
    "plt.legend(['train', 'test'], loc='upper left')\n",
    "plt.show()"
   ]
  },
  {
   "cell_type": "markdown",
   "metadata": {
    "id": "zKiO6H4fzRcd"
   },
   "source": [
    "###Q] Why micro f1-score is equal to accuracy?\n",
    "\n",
    "In micro f1_score we calculate a global confusion matrix instead of having cm for each class and further proof is shown in following image.\n",
    "\n",
    "<img src = 'IMG_20210328_030147.jpg'>"
   ]
  }
 ],
 "metadata": {
  "accelerator": "GPU",
  "colab": {
   "collapsed_sections": [],
   "name": "Speech_detection_Assignment.ipynb",
   "provenance": [],
   "toc_visible": true
  },
  "kernelspec": {
   "display_name": "Python 3",
   "language": "python",
   "name": "python3"
  },
  "language_info": {
   "codemirror_mode": {
    "name": "ipython",
    "version": 3
   },
   "file_extension": ".py",
   "mimetype": "text/x-python",
   "name": "python",
   "nbconvert_exporter": "python",
   "pygments_lexer": "ipython3",
   "version": "3.7.4"
  }
 },
 "nbformat": 4,
 "nbformat_minor": 1
}
